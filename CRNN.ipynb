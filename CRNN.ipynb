{
 "cells": [
  {
   "cell_type": "code",
   "execution_count": 1,
   "metadata": {},
   "outputs": [],
   "source": [
    "import os\n",
    "import matplotlib.pyplot as plt\n",
    "from PIL import Image\n",
    "import random\n",
    "import shutil"
   ]
  },
  {
   "cell_type": "code",
   "execution_count": 2,
   "metadata": {},
   "outputs": [],
   "source": [
    "import torch\n",
    "from torch.utils.data import Dataset, DataLoader\n",
    "from torchvision import datasets\n",
    "from torchvision.transforms import ToTensor, ColorJitter, Compose, Normalize\n",
    "\n",
    "from torch import nn\n",
    "from torch.nn import Module\n",
    "from torch.nn import Conv2d\n",
    "from torch.nn import Linear\n",
    "from torch.nn import ReLU\n",
    "from torch.nn import LogSoftmax\n",
    "from torch.nn import BatchNorm2d\n",
    "from torch.nn import LSTM\n",
    "from torch import flatten\n",
    "from torchmetrics import CharErrorRate\n",
    "import torch.nn.functional as F\n",
    "from torch.nn import CTCLoss"
   ]
  },
  {
   "cell_type": "markdown",
   "metadata": {},
   "source": [
    "# Prepare data"
   ]
  },
  {
   "cell_type": "markdown",
   "metadata": {},
   "source": [
    "### Alphabet class"
   ]
  },
  {
   "cell_type": "code",
   "execution_count": 3,
   "metadata": {},
   "outputs": [],
   "source": [
    "class Alphabet(object):\n",
    "    def __init__(self, folder_path):\n",
    "        self.symbol2idx = {}\n",
    "        self.idx2symbol = []\n",
    "        self._len = 0\n",
    "        self.make_alphabet(folder_path)\n",
    "        \n",
    "    def add_symbol(self, s):\n",
    "        if s not in self.symbol2idx:\n",
    "            self.idx2symbol.append(s)\n",
    "            self.symbol2idx[s] = self._len\n",
    "            self._len += 1\n",
    "            \n",
    "    def make_alphabet(self, folder_path):\n",
    "        assert os.path.exists(folder_path)\n",
    "        for _, _, files in os.walk(folder_path):\n",
    "            for file_name in files:\n",
    "                file_name = file_name.split('.')[0]\n",
    "                for symbol in file_name:\n",
    "                    self.add_symbol(symbol)\n",
    "        \n",
    "    def __len__(self):\n",
    "        return self._len\n",
    "    \n",
    "    def encode(self, label):\n",
    "        ids = torch.zeros([len(label), len(self)], dtype=torch.float32)\n",
    "        for pos, symbol in enumerate(label):\n",
    "            ids[pos, self.symbol2idx[symbol]] = 1.\n",
    "        return ids\n",
    "    \n",
    "    def decode(self, ids):\n",
    "        idxs = ids.argmax(dim=2).tolist()\n",
    "        labels = [''.join([self.idx2symbol[i] for i in b]) for b in idxs]\n",
    "        return labels"
   ]
  },
  {
   "cell_type": "code",
   "execution_count": 4,
   "metadata": {},
   "outputs": [],
   "source": [
    "img_dir = './samples/'\n",
    "\n",
    "alphabet = Alphabet(img_dir)"
   ]
  },
  {
   "cell_type": "markdown",
   "metadata": {},
   "source": [
    "### Dataset class"
   ]
  },
  {
   "cell_type": "code",
   "execution_count": 5,
   "metadata": {},
   "outputs": [],
   "source": [
    "class CustomImageDataset(Dataset):\n",
    "    def __init__(self, img_dir, transform=None, target_transform=None):\n",
    "        self.img_labels = []\n",
    "        for _, _, files in os.walk(img_dir):\n",
    "            for file_ in files:\n",
    "                self.img_labels.append(file_)\n",
    "        self.img_dir = img_dir\n",
    "        self.transform = transform\n",
    "        self.target_transform = target_transform\n",
    "\n",
    "    def __len__(self):\n",
    "        return len(self.img_labels)\n",
    "\n",
    "    def __getitem__(self, idx):\n",
    "        filename = self.img_labels[idx]\n",
    "        img_path = os.path.join(self.img_dir, filename)\n",
    "        image = Image.open(img_path).convert('RGB')\n",
    "        label = alphabet.encode(filename.split('.')[0])\n",
    "        if self.transform:\n",
    "            image = self.transform(image)\n",
    "        if self.target_transform:\n",
    "            label = self.target_transform(label)\n",
    "        return image, label"
   ]
  },
  {
   "cell_type": "markdown",
   "metadata": {},
   "source": [
    "### Train/Test split"
   ]
  },
  {
   "cell_type": "code",
   "execution_count": 6,
   "metadata": {
    "scrolled": true
   },
   "outputs": [],
   "source": [
    "all_files = []\n",
    "for _, _, files in os.walk(img_dir):\n",
    "    for file_ in files:\n",
    "        all_files.append(file_)\n",
    "        \n",
    "random.shuffle(all_files)\n",
    "border = int(0.8 * len(all_files))\n",
    "train_files = all_files[:border]\n",
    "test_files = all_files[border:]"
   ]
  },
  {
   "cell_type": "code",
   "execution_count": 7,
   "metadata": {},
   "outputs": [],
   "source": [
    "train_data_dir = 'data/train/'\n",
    "test_data_dir = 'data/test/'\n",
    "\n",
    "if not os.path.exists(train_data_dir):\n",
    "    os.makedirs(train_data_dir)\n",
    "    for file in train_files:\n",
    "        shutil.copy(os.path.join(img_dir, file), train_data_dir)\n",
    "\n",
    "if not os.path.exists(test_data_dir):\n",
    "    os.makedirs(test_data_dir)\n",
    "    for file in test_files:\n",
    "        shutil.copy(os.path.join(img_dir, file), test_data_dir)"
   ]
  },
  {
   "cell_type": "code",
   "execution_count": 8,
   "metadata": {},
   "outputs": [],
   "source": [
    "train_dataset = CustomImageDataset(img_dir=train_data_dir,\n",
    "                                   transform=Compose([\n",
    "                                            #ColorJitter(),\n",
    "                                            ToTensor(),\n",
    "                                            Normalize(mean=[0.5, 0.5, 0.5], std=[0.5, 0.5, 0.5]),\n",
    "                                   ]))\n",
    "\n",
    "test_dataset = CustomImageDataset(img_dir=test_data_dir,\n",
    "                                  transform=Compose([\n",
    "                                            ToTensor(),\n",
    "                                            Normalize(mean=[0.5, 0.5, 0.5], std=[0.5, 0.5, 0.5]),\n",
    "                                 ]))"
   ]
  },
  {
   "cell_type": "code",
   "execution_count": 9,
   "metadata": {},
   "outputs": [],
   "source": [
    "train_loader = DataLoader(train_dataset, batch_size=32, shuffle=True, num_workers=4)\n",
    "test_loader = DataLoader(test_dataset, batch_size=32, shuffle=False, num_workers=4)"
   ]
  },
  {
   "cell_type": "markdown",
   "metadata": {},
   "source": [
    "### Find mean and std of dataset"
   ]
  },
  {
   "cell_type": "code",
   "execution_count": 10,
   "metadata": {},
   "outputs": [
    {
     "name": "stdout",
     "output_type": "stream",
     "text": [
      "tensor([0.4305, 0.4305, 0.4305])\n",
      "tensor([0.6269, 0.6269, 0.6269])\n"
     ]
    }
   ],
   "source": [
    "nimages = 0\n",
    "mean = 0.0\n",
    "var = 0.0\n",
    "for i_batch, batch_target in enumerate(train_loader):\n",
    "    batch = batch_target[0]\n",
    "    # Rearrange batch to be the shape of [B, C, W * H]\n",
    "    batch = batch.view(batch.size(0), batch.size(1), -1)\n",
    "    # Update total number of images\n",
    "    nimages += batch.size(0)\n",
    "    # Compute mean and std here\n",
    "    mean += batch.mean(2).sum(0) \n",
    "    var += batch.var(2).sum(0)\n",
    "\n",
    "mean /= nimages\n",
    "var /= nimages\n",
    "std = torch.sqrt(var)\n",
    "\n",
    "print(mean)\n",
    "print(std)"
   ]
  },
  {
   "cell_type": "code",
   "execution_count": 11,
   "metadata": {},
   "outputs": [],
   "source": [
    "train_dataset = CustomImageDataset(img_dir=train_data_dir,\n",
    "                                   transform=Compose([\n",
    "                                            #ColorJitter(),\n",
    "                                            ToTensor(),\n",
    "                                            Normalize(mean=[0.4304, 0.4304, 0.4304], std=[0.6269, 0.6269, 0.6269]),\n",
    "                                   ]))\n",
    "\n",
    "test_dataset = CustomImageDataset(img_dir=test_data_dir,\n",
    "                                  transform=Compose([\n",
    "                                            ToTensor(),\n",
    "                                            Normalize(mean=[0.4304, 0.4304, 0.4304], std=[0.6269, 0.6269, 0.6269]),\n",
    "                                 ]))"
   ]
  },
  {
   "cell_type": "code",
   "execution_count": 12,
   "metadata": {},
   "outputs": [],
   "source": [
    "train_loader = DataLoader(train_dataset, batch_size=32, shuffle=True, num_workers=4)\n",
    "test_loader = DataLoader(test_dataset, batch_size=32, shuffle=False, num_workers=4)"
   ]
  },
  {
   "cell_type": "markdown",
   "metadata": {},
   "source": [
    "## Create Model\n"
   ]
  },
  {
   "cell_type": "code",
   "execution_count": 13,
   "metadata": {},
   "outputs": [],
   "source": [
    "class Bidirectional_LSTM(torch.nn.Module):\n",
    "    def __init__(self, class_num, hidden_unit):\n",
    "        super(Bidirectional_LSTM, self).__init__()\n",
    "        self.LSTM1 = torch.nn.LSTM(1024, hidden_unit, bidirectional=True)\n",
    "        self.embedding1 = torch.nn.Linear(hidden_unit * 2, 1024)\n",
    "        self.LSTM2 = torch.nn.LSTM(1024, hidden_unit, bidirectional=True)\n",
    "        self.embedding2 = torch.nn.Linear(hidden_unit * 2, class_num)\n",
    "\n",
    "    def forward(self, x):\n",
    "        x = self.LSTM1(x)   # LSTM output: output, (h_n, c_n)\n",
    "        T, b, h = x[0].size()   # x[0]: (seq_len, batch, num_directions * hidden_size)\n",
    "        x = self.embedding1(x[0].view(T * b, h))  # pytorch view() reshape as [T * b, nOut]\n",
    "        x = x.view(T, b, -1)  # [seq_len, b, 512]\n",
    "        x = self.LSTM2(x)\n",
    "        T, b, h = x[0].size()\n",
    "        x = self.embedding2(x[0].view(T * b, h))\n",
    "        x = x.view(T, b, -1)\n",
    "        return x\n"
   ]
  },
  {
   "cell_type": "code",
   "execution_count": 14,
   "metadata": {},
   "outputs": [],
   "source": [
    "class CapchaNet(Module):\n",
    "    def __init__(self, alphabet_len):\n",
    "        super(CapchaNet, self).__init__()\n",
    "        \n",
    "        self.conv1 = Conv2d(3, 64, (3, 3), stride=2) # 99x24\n",
    "        self.bn1 = BatchNorm2d(64)\n",
    "        self.conv2 = Conv2d(64, 128, (3, 3), stride=2) # 48x11\n",
    "        self.bn2 = BatchNorm2d(128)\n",
    "        self.conv3 = Conv2d(128, 256, (3, 3), stride=2) # 23x5\n",
    "        self.bn3 = BatchNorm2d(256)\n",
    "        self.conv4 = Conv2d(256, 512, (3, 3), stride=2) # 11x2\n",
    "        self.bn4 = BatchNorm2d(512)\n",
    "        self.conv5 = Conv2d(512, 1024, (2, 2), stride=(1, 2)) # 5X1\n",
    "        self.bn5 = BatchNorm2d(1024)\n",
    "        # self.glob_pool = AdaptiveAvgPool2d((1,1)) \n",
    "        self.rnn = Bidirectional_LSTM(alphabet_len, 1024)\n",
    "        # self.fc1 = Linear(9 * 5 * 512, 512)\n",
    "        # self.fc2 = Linear(512, alphabet_len * 5)\n",
    "\n",
    "    \n",
    "    def forward(self, x):\n",
    "        \n",
    "        x = self.bn1(F.relu(self.conv1(x)))\n",
    "        x = self.bn2(F.relu(self.conv2(x)))\n",
    "        x = self.bn3(F.relu(self.conv3(x)))\n",
    "        x = self.bn4(F.relu(self.conv4(x)))\n",
    "        x = self.bn5(F.relu(self.conv5(x)))\n",
    "        # x = self.glob_pool(x)\n",
    "        # x = flatten(x, start_dim=1)\n",
    "        \n",
    "        x = x.squeeze(2)  # remove h dimension\n",
    "        x = x.permute(2, 0, 1)  # [w, b, c] = [seq_len, batch, input_size]\n",
    "        x = self.rnn(x)\n",
    "        x = x.permute(1, 0, 2)\n",
    "        # x = F.relu(self.fc1(x))\n",
    "        # x = self.fc2(x)\n",
    "        # x = x.view(-1, 5, 19)\n",
    "        output = F.log_softmax(x, dim=2) \n",
    "        return output"
   ]
  },
  {
   "cell_type": "markdown",
   "metadata": {},
   "source": [
    "## Train"
   ]
  },
  {
   "cell_type": "code",
   "execution_count": 15,
   "metadata": {},
   "outputs": [],
   "source": [
    "import string\n",
    "import math\n",
    "from torch.optim import lr_scheduler\n",
    "\n",
    "ntokens = len(alphabet)\n",
    "model = CapchaNet(ntokens)\n",
    "criterion = nn.CrossEntropyLoss()\n",
    "grad_clip = 0.1\n",
    "lr = torch.tensor(1e-3)\n",
    "optim = torch.optim.Adam(model.parameters(), lr=lr)\n",
    "scheduler = lr_scheduler.ReduceLROnPlateau(optim, mode='min',\n",
    "                                           factor=0.4, patience=3, verbose=True)"
   ]
  },
  {
   "cell_type": "code",
   "execution_count": 16,
   "metadata": {},
   "outputs": [],
   "source": [
    "def get_lr(optimizer):\n",
    "    for param_group in optimizer.param_groups:\n",
    "        return param_group['lr']"
   ]
  },
  {
   "cell_type": "code",
   "execution_count": 17,
   "metadata": {},
   "outputs": [],
   "source": [
    "def character_error_rate(preds, labels):\n",
    "    assert len(preds) == len(labels)\n",
    "    errors = 0\n",
    "    for pred, label in zip(preds, labels):\n",
    "        for p, l in zip(pred, label):\n",
    "            errors += int(p != l)\n",
    "    return errors / (len(labels) * len(labels[0]))"
   ]
  },
  {
   "cell_type": "code",
   "execution_count": 18,
   "metadata": {},
   "outputs": [],
   "source": [
    "def train(model):\n",
    "    \n",
    "    model.train()\n",
    "    total_loss = 0\n",
    "    total_val_loss = 0\n",
    "    cer, cer_p = 0, 0\n",
    "    CER = CharErrorRate()\n",
    "    for batch, (data, targets) in enumerate(train_loader):\n",
    "        \n",
    "        output = model(data)\n",
    "        optim.zero_grad()\n",
    "        loss = criterion(output, targets)\n",
    "        loss.backward()\n",
    "\n",
    "        # torch.nn.utils.clip_grad_norm_(model.parameters(), grad_clip)\n",
    "        optim.step()\n",
    "        total_loss += loss.item()\n",
    "    \n",
    "    model.eval()\n",
    "    with torch.no_grad():\n",
    "        for data, targets in test_loader:\n",
    "            preds = model(data)\n",
    "            val_loss = criterion(preds, targets)\n",
    "            total_val_loss += val_loss.item()\n",
    "            labels = alphabet.decode(targets)\n",
    "            pred_labels = alphabet.decode(preds)\n",
    "            cer_p += CER(pred_labels, labels)\n",
    "            cer += character_error_rate(pred_labels, labels)\n",
    "            \n",
    "    \n",
    "    total_loss /= len(train_loader)\n",
    "    total_val_loss /= len(test_loader)\n",
    "    cer /= len(test_loader)\n",
    "    cer_p /= len(test_loader)\n",
    "    \n",
    "    scheduler.step(total_val_loss)\n",
    "    \n",
    "    print('[Epoch {:3d}]:  lr {:02.6f} | train loss {:5.5f} | val loss {:5.5f} | val CER {:5.5f} | val CER(torch) {:5.5f}'.format(\n",
    "                epoch, get_lr(optim), total_loss, total_val_loss, cer, cer_p))\n",
    "    return total_loss, total_val_loss"
   ]
  },
  {
   "cell_type": "code",
   "execution_count": 19,
   "metadata": {},
   "outputs": [],
   "source": [
    "loss_curve_train, loss_curve_test = [], []"
   ]
  },
  {
   "cell_type": "code",
   "execution_count": 20,
   "metadata": {
    "scrolled": false
   },
   "outputs": [
    {
     "name": "stdout",
     "output_type": "stream",
     "text": [
      "[Epoch   1]:  lr 0.001000 | train loss 0.26901 | val loss 0.29594 | val CER 0.83023 | val CER(torch) 0.83023\n",
      "[Epoch   2]:  lr 0.001000 | train loss 0.11948 | val loss 0.12212 | val CER 0.42694 | val CER(torch) 0.42694\n",
      "[Epoch   3]:  lr 0.001000 | train loss 0.08094 | val loss 0.07452 | val CER 0.25542 | val CER(torch) 0.25542\n",
      "[Epoch   4]:  lr 0.001000 | train loss 0.06473 | val loss 0.06164 | val CER 0.19603 | val CER(torch) 0.19603\n",
      "[Epoch   5]:  lr 0.001000 | train loss 0.05476 | val loss 0.05753 | val CER 0.14289 | val CER(torch) 0.14289\n",
      "[Epoch   6]:  lr 0.001000 | train loss 0.05600 | val loss 0.05424 | val CER 0.12148 | val CER(torch) 0.12148\n",
      "[Epoch   7]:  lr 0.001000 | train loss 0.04862 | val loss 0.04956 | val CER 0.10632 | val CER(torch) 0.10632\n",
      "[Epoch   8]:  lr 0.001000 | train loss 0.05002 | val loss 0.05106 | val CER 0.12076 | val CER(torch) 0.12076\n",
      "[Epoch   9]:  lr 0.001000 | train loss 0.05257 | val loss 0.05712 | val CER 0.14445 | val CER(torch) 0.14445\n",
      "[Epoch  10]:  lr 0.001000 | train loss 0.04914 | val loss 0.05033 | val CER 0.11419 | val CER(torch) 0.11419\n",
      "[Epoch  11]:  lr 0.001000 | train loss 0.04581 | val loss 0.04703 | val CER 0.08612 | val CER(torch) 0.08612\n",
      "[Epoch  12]:  lr 0.001000 | train loss 0.04439 | val loss 0.04430 | val CER 0.05808 | val CER(torch) 0.05808\n",
      "[Epoch  13]:  lr 0.001000 | train loss 0.04121 | val loss 0.04374 | val CER 0.05287 | val CER(torch) 0.05287\n",
      "[Epoch  14]:  lr 0.001000 | train loss 0.04147 | val loss 0.04465 | val CER 0.06069 | val CER(torch) 0.06069\n",
      "[Epoch  15]:  lr 0.001000 | train loss 0.04207 | val loss 0.04517 | val CER 0.05553 | val CER(torch) 0.05553\n",
      "[Epoch  16]:  lr 0.001000 | train loss 0.04505 | val loss 0.04991 | val CER 0.10451 | val CER(torch) 0.10451\n",
      "Epoch 00017: reducing learning rate of group 0 to 4.0000e-04.\n",
      "[Epoch  17]:  lr 0.000400 | train loss 0.04493 | val loss 0.04438 | val CER 0.07241 | val CER(torch) 0.07241\n",
      "[Epoch  18]:  lr 0.000400 | train loss 0.04077 | val loss 0.04175 | val CER 0.04881 | val CER(torch) 0.04881\n",
      "[Epoch  19]:  lr 0.000400 | train loss 0.03906 | val loss 0.04089 | val CER 0.03407 | val CER(torch) 0.03407\n",
      "[Epoch  20]:  lr 0.000400 | train loss 0.03878 | val loss 0.04079 | val CER 0.03042 | val CER(torch) 0.03042\n",
      "[Epoch  21]:  lr 0.000400 | train loss 0.03870 | val loss 0.04071 | val CER 0.02881 | val CER(torch) 0.02881\n",
      "[Epoch  22]:  lr 0.000400 | train loss 0.03868 | val loss 0.04064 | val CER 0.02777 | val CER(torch) 0.02777\n",
      "[Epoch  23]:  lr 0.000400 | train loss 0.03868 | val loss 0.04066 | val CER 0.02724 | val CER(torch) 0.02724\n",
      "[Epoch  24]:  lr 0.000400 | train loss 0.03866 | val loss 0.04059 | val CER 0.02672 | val CER(torch) 0.02672\n",
      "[Epoch  25]:  lr 0.000400 | train loss 0.03865 | val loss 0.04060 | val CER 0.02672 | val CER(torch) 0.02672\n",
      "[Epoch  26]:  lr 0.000400 | train loss 0.03864 | val loss 0.04054 | val CER 0.02464 | val CER(torch) 0.02464\n",
      "[Epoch  27]:  lr 0.000400 | train loss 0.03863 | val loss 0.04057 | val CER 0.02568 | val CER(torch) 0.02568\n",
      "[Epoch  28]:  lr 0.000400 | train loss 0.03864 | val loss 0.04053 | val CER 0.02568 | val CER(torch) 0.02568\n",
      "[Epoch  29]:  lr 0.000400 | train loss 0.03863 | val loss 0.04059 | val CER 0.02516 | val CER(torch) 0.02516\n",
      "Epoch 00030: reducing learning rate of group 0 to 1.6000e-04.\n",
      "[Epoch  30]:  lr 0.000160 | train loss 0.03863 | val loss 0.04055 | val CER 0.02568 | val CER(torch) 0.02568\n",
      "[Epoch  31]:  lr 0.000160 | train loss 0.03863 | val loss 0.04049 | val CER 0.02516 | val CER(torch) 0.02516\n",
      "[Epoch  32]:  lr 0.000160 | train loss 0.03864 | val loss 0.04054 | val CER 0.02464 | val CER(torch) 0.02464\n",
      "[Epoch  33]:  lr 0.000160 | train loss 0.03863 | val loss 0.04053 | val CER 0.02516 | val CER(torch) 0.02516\n",
      "[Epoch  34]:  lr 0.000160 | train loss 0.03860 | val loss 0.04052 | val CER 0.02568 | val CER(torch) 0.02568\n",
      "[Epoch  35]:  lr 0.000160 | train loss 0.03862 | val loss 0.04048 | val CER 0.02568 | val CER(torch) 0.02568\n",
      "[Epoch  36]:  lr 0.000160 | train loss 0.03861 | val loss 0.04047 | val CER 0.02464 | val CER(torch) 0.02464\n",
      "[Epoch  37]:  lr 0.000160 | train loss 0.03862 | val loss 0.04051 | val CER 0.02464 | val CER(torch) 0.02464\n",
      "[Epoch  38]:  lr 0.000160 | train loss 0.03861 | val loss 0.04059 | val CER 0.02568 | val CER(torch) 0.02568\n",
      "[Epoch  39]:  lr 0.000160 | train loss 0.03861 | val loss 0.04052 | val CER 0.02516 | val CER(torch) 0.02516\n",
      "Epoch 00040: reducing learning rate of group 0 to 6.4000e-05.\n",
      "[Epoch  40]:  lr 0.000064 | train loss 0.03861 | val loss 0.04058 | val CER 0.02412 | val CER(torch) 0.02412\n",
      "[Epoch  41]:  lr 0.000064 | train loss 0.03862 | val loss 0.04049 | val CER 0.02308 | val CER(torch) 0.02308\n",
      "[Epoch  42]:  lr 0.000064 | train loss 0.03863 | val loss 0.04054 | val CER 0.02412 | val CER(torch) 0.02412\n",
      "[Epoch  43]:  lr 0.000064 | train loss 0.03860 | val loss 0.04057 | val CER 0.02412 | val CER(torch) 0.02412\n",
      "[Epoch  44]:  lr 0.000064 | train loss 0.03860 | val loss 0.04046 | val CER 0.02464 | val CER(torch) 0.02464\n",
      "[Epoch  45]:  lr 0.000064 | train loss 0.03861 | val loss 0.04048 | val CER 0.02412 | val CER(torch) 0.02412\n",
      "[Epoch  46]:  lr 0.000064 | train loss 0.03860 | val loss 0.04046 | val CER 0.02464 | val CER(torch) 0.02464\n",
      "[Epoch  47]:  lr 0.000064 | train loss 0.03861 | val loss 0.04052 | val CER 0.02412 | val CER(torch) 0.02412\n",
      "Epoch 00048: reducing learning rate of group 0 to 2.5600e-05.\n",
      "[Epoch  48]:  lr 0.000026 | train loss 0.03860 | val loss 0.04050 | val CER 0.02360 | val CER(torch) 0.02360\n",
      "[Epoch  49]:  lr 0.000026 | train loss 0.03861 | val loss 0.04049 | val CER 0.02464 | val CER(torch) 0.02464\n",
      "[Epoch  50]:  lr 0.000026 | train loss 0.03860 | val loss 0.04045 | val CER 0.02412 | val CER(torch) 0.02412\n",
      "[Epoch  51]:  lr 0.000026 | train loss 0.03862 | val loss 0.04050 | val CER 0.02308 | val CER(torch) 0.02308\n",
      "[Epoch  52]:  lr 0.000026 | train loss 0.03859 | val loss 0.04049 | val CER 0.02412 | val CER(torch) 0.02412\n",
      "[Epoch  53]:  lr 0.000026 | train loss 0.03860 | val loss 0.04050 | val CER 0.02412 | val CER(torch) 0.02412\n",
      "Epoch 00054: reducing learning rate of group 0 to 1.0240e-05.\n",
      "[Epoch  54]:  lr 0.000010 | train loss 0.03860 | val loss 0.04046 | val CER 0.02308 | val CER(torch) 0.02308\n",
      "[Epoch  55]:  lr 0.000010 | train loss 0.03860 | val loss 0.04048 | val CER 0.02360 | val CER(torch) 0.02360\n",
      "[Epoch  56]:  lr 0.000010 | train loss 0.03861 | val loss 0.04052 | val CER 0.02412 | val CER(torch) 0.02412\n",
      "[Epoch  57]:  lr 0.000010 | train loss 0.03860 | val loss 0.04054 | val CER 0.02360 | val CER(torch) 0.02360\n",
      "Epoch 00058: reducing learning rate of group 0 to 4.0960e-06.\n",
      "[Epoch  58]:  lr 0.000004 | train loss 0.03860 | val loss 0.04048 | val CER 0.02360 | val CER(torch) 0.02360\n",
      "[Epoch  59]:  lr 0.000004 | train loss 0.03861 | val loss 0.04041 | val CER 0.02360 | val CER(torch) 0.02360\n"
     ]
    }
   ],
   "source": [
    "for epoch in range(1, 60):\n",
    "    train_loss, test_loss = train(model)\n",
    "    loss_curve_train.append(train_loss)\n",
    "    loss_curve_test.append(test_loss)"
   ]
  },
  {
   "cell_type": "code",
   "execution_count": 21,
   "metadata": {},
   "outputs": [
    {
     "data": {
      "image/png": "[encoded data removed]",
      "text/plain": [
       "<Figure size 720x576 with 1 Axes>"
      ]
     },
     "metadata": {
      "needs_background": "light"
     },
     "output_type": "display_data"
    }
   ],
   "source": [
    "# Visualize loss\n",
    "plt.figure(figsize=(10, 8))\n",
    "    \n",
    "plt.title(\"Training loss\")\n",
    "plt.xlabel(\"#epoch\")\n",
    "plt.ylabel(\"loss\")\n",
    "\n",
    "plt.plot(loss_curve_train, label='train')\n",
    "plt.plot(loss_curve_test, label='test')\n",
    "\n",
    "\n",
    "#plt.yscale('log',base=2)\n",
    "plt.legend()\n",
    "plt.show()"
   ]
  },
  {
   "cell_type": "code",
   "execution_count": null,
   "metadata": {},
   "outputs": [],
   "source": []
  }
 ],
 "metadata": {
  "kernelspec": {
   "display_name": "Python 3 (ipykernel)",
   "language": "python",
   "name": "python3"
  },
  "language_info": {
   "codemirror_mode": {
    "name": "ipython",
    "version": 3
   },
   "file_extension": ".py",
   "mimetype": "text/x-python",
   "name": "python",
   "nbconvert_exporter": "python",
   "pygments_lexer": "ipython3",
   "version": "3.9.12"
  }
 },
 "nbformat": 4,
 "nbformat_minor": 4
}
