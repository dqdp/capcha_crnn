{
 "cells": [
  {
   "cell_type": "code",
   "execution_count": 25,
   "metadata": {},
   "outputs": [],
   "source": [
    "import os\n",
    "import matplotlib.pyplot as plt\n",
    "from PIL import Image\n",
    "import random\n",
    "import shutil"
   ]
  },
  {
   "cell_type": "code",
   "execution_count": 26,
   "metadata": {},
   "outputs": [],
   "source": [
    "import torch\n",
    "from torch.utils.data import Dataset, DataLoader\n",
    "from torchvision import datasets\n",
    "from torchvision.transforms import ToTensor, ColorJitter, Compose, Normalize\n",
    "\n",
    "from torch import nn\n",
    "from torch.nn import Module\n",
    "from torch.nn import Conv2d\n",
    "from torch.nn import Linear\n",
    "from torch.nn import ReLU\n",
    "from torch.nn import LogSoftmax\n",
    "from torch.nn import BatchNorm2d\n",
    "from torch.nn import LSTM\n",
    "from torch import flatten\n",
    "from torchmetrics import CharErrorRate\n",
    "import torch.nn.functional as F\n",
    "from torch.nn import CTCLoss"
   ]
  },
  {
   "cell_type": "markdown",
   "metadata": {},
   "source": [
    "# Prepare data"
   ]
  },
  {
   "cell_type": "markdown",
   "metadata": {},
   "source": [
    "### Alphabet class"
   ]
  },
  {
   "cell_type": "code",
   "execution_count": 27,
   "metadata": {},
   "outputs": [],
   "source": [
    "class Alphabet(object):\n",
    "    def __init__(self, folder_path):\n",
    "        self.symbol2idx = {}\n",
    "        self.idx2symbol = []\n",
    "        self._len = 0\n",
    "        self.make_alphabet(folder_path)\n",
    "        \n",
    "    def add_symbol(self, s):\n",
    "        if s not in self.symbol2idx:\n",
    "            self.idx2symbol.append(s)\n",
    "            self.symbol2idx[s] = self._len\n",
    "            self._len += 1\n",
    "            \n",
    "    def make_alphabet(self, folder_path):\n",
    "        assert os.path.exists(folder_path)\n",
    "        for _, _, files in os.walk(folder_path):\n",
    "            for file_name in files:\n",
    "                file_name = file_name.split('.')[0]\n",
    "                for symbol in file_name:\n",
    "                    self.add_symbol(symbol)\n",
    "        \n",
    "    def __len__(self):\n",
    "        return self._len\n",
    "    \n",
    "    def encode(self, label):\n",
    "        ids = torch.zeros([len(label), len(self)], dtype=torch.float32)\n",
    "        for pos, symbol in enumerate(label):\n",
    "            ids[pos, self.symbol2idx[symbol]] = 1.\n",
    "        return ids\n",
    "    \n",
    "    def decode(self, ids):\n",
    "        idxs = ids.argmax(dim=2).tolist()\n",
    "        labels = [''.join([self.idx2symbol[i] for i in b]) for b in idxs]\n",
    "        return labels"
   ]
  },
  {
   "cell_type": "code",
   "execution_count": 28,
   "metadata": {},
   "outputs": [],
   "source": [
    "img_dir = './samples/'\n",
    "\n",
    "alphabet = Alphabet(img_dir)"
   ]
  },
  {
   "cell_type": "markdown",
   "metadata": {},
   "source": [
    "### Dataset class"
   ]
  },
  {
   "cell_type": "code",
   "execution_count": 29,
   "metadata": {},
   "outputs": [],
   "source": [
    "class CustomImageDataset(Dataset):\n",
    "    def __init__(self, img_dir, transform=None):\n",
    "        self.img_labels = []\n",
    "        for _, _, files in os.walk(img_dir):\n",
    "            for file_ in files:\n",
    "                self.img_labels.append(file_)\n",
    "        self.img_dir = img_dir\n",
    "        self.transform = transform\n",
    "\n",
    "    def __len__(self):\n",
    "        return len(self.img_labels)\n",
    "\n",
    "    def __getitem__(self, idx):\n",
    "        filename = self.img_labels[idx]\n",
    "        img_path = os.path.join(self.img_dir, filename)\n",
    "        image = Image.open(img_path).convert('RGB')\n",
    "        label = alphabet.encode(filename.split('.')[0])\n",
    "        if self.transform:\n",
    "            image = self.transform(image)\n",
    "        return image, label"
   ]
  },
  {
   "cell_type": "markdown",
   "metadata": {},
   "source": [
    "### Train/Test split"
   ]
  },
  {
   "cell_type": "code",
   "execution_count": 30,
   "metadata": {
    "scrolled": true
   },
   "outputs": [],
   "source": [
    "all_files = []\n",
    "for _, _, files in os.walk(img_dir):\n",
    "    for file_ in files:\n",
    "        all_files.append(file_)\n",
    "        \n",
    "random.shuffle(all_files)\n",
    "border = int(0.8 * len(all_files))\n",
    "train_files = all_files[:border]\n",
    "test_files = all_files[border:]"
   ]
  },
  {
   "cell_type": "code",
   "execution_count": 31,
   "metadata": {},
   "outputs": [],
   "source": [
    "train_data_dir = 'data/train/'\n",
    "test_data_dir = 'data/test/'\n",
    "\n",
    "if not os.path.exists(train_data_dir):\n",
    "    os.makedirs(train_data_dir)\n",
    "    for file in train_files:\n",
    "        shutil.copy(os.path.join(img_dir, file), train_data_dir)\n",
    "\n",
    "if not os.path.exists(test_data_dir):\n",
    "    os.makedirs(test_data_dir)\n",
    "    for file in test_files:\n",
    "        shutil.copy(os.path.join(img_dir, file), test_data_dir)"
   ]
  },
  {
   "cell_type": "markdown",
   "metadata": {},
   "source": [
    "### Find mean and std of dataset"
   ]
  },
  {
   "cell_type": "code",
   "execution_count": 32,
   "metadata": {},
   "outputs": [],
   "source": [
    "dataset = CustomImageDataset(img_dir=train_data_dir,\n",
    "                                   transform=Compose([\n",
    "                                            #ColorJitter(),\n",
    "                                            ToTensor(),\n",
    "                                   ]))"
   ]
  },
  {
   "cell_type": "code",
   "execution_count": 33,
   "metadata": {},
   "outputs": [],
   "source": [
    "data_loader = DataLoader(dataset, batch_size=32, shuffle=True, num_workers=4)"
   ]
  },
  {
   "cell_type": "code",
   "execution_count": 34,
   "metadata": {},
   "outputs": [
    {
     "name": "stdout",
     "output_type": "stream",
     "text": [
      "tensor([0.7152, 0.7152, 0.7152])\n",
      "tensor([0.3135, 0.3135, 0.3135])\n"
     ]
    }
   ],
   "source": [
    "nimages = 0\n",
    "mean = 0.0\n",
    "var = 0.0\n",
    "for i_batch, batch_target in enumerate(data_loader):\n",
    "    batch = batch_target[0]\n",
    "    # Rearrange batch to be the shape of [B, C, W * H]\n",
    "    batch = batch.view(batch.size(0), batch.size(1), -1)\n",
    "    # Update total number of images\n",
    "    nimages += batch.size(0)\n",
    "    # Compute mean and std here\n",
    "    mean += batch.mean(2).sum(0) \n",
    "    var += batch.var(2).sum(0)\n",
    "\n",
    "mean /= nimages\n",
    "var /= nimages\n",
    "std = torch.sqrt(var)\n",
    "\n",
    "print(mean)\n",
    "print(std)"
   ]
  },
  {
   "cell_type": "code",
   "execution_count": 38,
   "metadata": {},
   "outputs": [],
   "source": [
    "train_dataset = CustomImageDataset(img_dir=train_data_dir,\n",
    "                                   transform=Compose([\n",
    "                                            #ColorJitter(),\n",
    "                                            ToTensor(),\n",
    "                                            Normalize(mean=[0.7152, 0.7152, 0.7152], std=[0.3136, 0.3136, 0.3136]),\n",
    "                                   ]))\n",
    "\n",
    "test_dataset = CustomImageDataset(img_dir=test_data_dir,\n",
    "                                  transform=Compose([\n",
    "                                            ToTensor(),\n",
    "                                            Normalize(mean=[0.7152, 0.7152, 0.7152], std=[0.3136, 0.3136, 0.3136]),\n",
    "                                 ]))"
   ]
  },
  {
   "cell_type": "code",
   "execution_count": 39,
   "metadata": {},
   "outputs": [],
   "source": [
    "train_loader = DataLoader(train_dataset, batch_size=32, shuffle=True, num_workers=6)\n",
    "test_loader = DataLoader(test_dataset, batch_size=32, shuffle=False, num_workers=6)"
   ]
  },
  {
   "cell_type": "markdown",
   "metadata": {},
   "source": [
    "## Create Model"
   ]
  },
  {
   "cell_type": "code",
   "execution_count": 40,
   "metadata": {},
   "outputs": [],
   "source": [
    "class Bidirectional_LSTM(torch.nn.Module):\n",
    "    def __init__(self, class_num, hidden_unit):\n",
    "        super(Bidirectional_LSTM, self).__init__()\n",
    "        \n",
    "        self.LSTM1 = torch.nn.LSTM(2048, hidden_unit, bidirectional=True)\n",
    "        self.embedding1 = torch.nn.Linear(hidden_unit * 2, 2048)\n",
    "        self.LSTM2 = torch.nn.LSTM(2048, hidden_unit, bidirectional=True)\n",
    "        self.embedding2 = torch.nn.Linear(hidden_unit * 2, class_num)\n",
    "\n",
    "    def forward(self, x):\n",
    "        x = self.LSTM1(x)   # LSTM output: output, (h_n, c_n)\n",
    "        T, b, h = x[0].size()   # x[0]: (seq_len, batch, num_directions * hidden_size)\n",
    "        x = self.embedding1(x[0].view(T * b, h))  # pytorch view() reshape as [T * b, nOut]\n",
    "        x = x.view(T, b, -1)  # [seq_len, b, 512]\n",
    "        \n",
    "        x = self.LSTM2(x)\n",
    "        T, b, h = x[0].size()\n",
    "        x = self.embedding2(x[0].view(T * b, h))\n",
    "        x = x.view(T, b, -1)\n",
    "        \n",
    "        return x\n"
   ]
  },
  {
   "cell_type": "code",
   "execution_count": 41,
   "metadata": {},
   "outputs": [],
   "source": [
    "class CapchaNet(Module):\n",
    "    def __init__(self, alphabet_len):\n",
    "        super(CapchaNet, self).__init__()\n",
    "        \n",
    "        self.conv1 = Conv2d(3, 128, (3, 3), stride=2) # 99x24\n",
    "        self.bn1 = BatchNorm2d(128)\n",
    "        self.conv2 = Conv2d(128, 256, (3, 3), stride=2) # 48x11\n",
    "        self.bn2 = BatchNorm2d(256)\n",
    "        self.conv3 = Conv2d(256, 512, (3, 3), stride=2) # 23x5\n",
    "        self.bn3 = BatchNorm2d(512)\n",
    "        self.conv4 = Conv2d(512, 1024, (3, 3), stride=2) # 11x2\n",
    "        self.bn4 = BatchNorm2d(1024)\n",
    "        self.conv5 = Conv2d(1024, 2048, (2, 2), stride=(1, 2)) # 5X1\n",
    "        self.bn5 = BatchNorm2d(2048)\n",
    "        self.rnn = Bidirectional_LSTM(alphabet_len, 2048)\n",
    "    \n",
    "    def forward(self, x):\n",
    "        \n",
    "        x = self.bn1(F.relu(self.conv1(x)))\n",
    "        x = self.bn2(F.relu(self.conv2(x)))\n",
    "        x = self.bn3(F.relu(self.conv3(x)))\n",
    "        x = self.bn4(F.relu(self.conv4(x)))\n",
    "        x = self.bn5(F.relu(self.conv5(x)))\n",
    "        \n",
    "        x = x.squeeze(2)  # remove h dimension\n",
    "        x = x.permute(2, 0, 1)  # [w, b, c] = [seq_len, batch, input_size]\n",
    "        x = self.rnn(x)\n",
    "        \n",
    "        x = x.permute(1, 0, 2)\n",
    "        output = F.log_softmax(x, dim=2)\n",
    "        \n",
    "        return output"
   ]
  },
  {
   "cell_type": "markdown",
   "metadata": {},
   "source": [
    "## Train model"
   ]
  },
  {
   "cell_type": "code",
   "execution_count": 42,
   "metadata": {},
   "outputs": [],
   "source": [
    "import string\n",
    "import math\n",
    "from torch.optim import lr_scheduler\n",
    "\n",
    "ntokens = len(alphabet)\n",
    "model = CapchaNet(ntokens)\n",
    "criterion = nn.CrossEntropyLoss()\n",
    "grad_clip = 0.1\n",
    "lr = torch.tensor(1e-3)\n",
    "optim = torch.optim.Adam(model.parameters(), lr=lr)\n",
    "scheduler = lr_scheduler.ReduceLROnPlateau(optim, mode='min',\n",
    "                                           factor=0.4, patience=3, verbose=True)"
   ]
  },
  {
   "cell_type": "code",
   "execution_count": 43,
   "metadata": {},
   "outputs": [
    {
     "name": "stdout",
     "output_type": "stream",
     "text": [
      "cuda\n"
     ]
    }
   ],
   "source": [
    "device = torch.device(\"cuda\" if torch.cuda.is_available() else \"cpu\")\n",
    "print(device)"
   ]
  },
  {
   "cell_type": "code",
   "execution_count": 44,
   "metadata": {},
   "outputs": [
    {
     "data": {
      "text/plain": [
       "CapchaNet(\n",
       "  (conv1): Conv2d(3, 128, kernel_size=(3, 3), stride=(2, 2))\n",
       "  (bn1): BatchNorm2d(128, eps=1e-05, momentum=0.1, affine=True, track_running_stats=True)\n",
       "  (conv2): Conv2d(128, 256, kernel_size=(3, 3), stride=(2, 2))\n",
       "  (bn2): BatchNorm2d(256, eps=1e-05, momentum=0.1, affine=True, track_running_stats=True)\n",
       "  (conv3): Conv2d(256, 512, kernel_size=(3, 3), stride=(2, 2))\n",
       "  (bn3): BatchNorm2d(512, eps=1e-05, momentum=0.1, affine=True, track_running_stats=True)\n",
       "  (conv4): Conv2d(512, 1024, kernel_size=(3, 3), stride=(2, 2))\n",
       "  (bn4): BatchNorm2d(1024, eps=1e-05, momentum=0.1, affine=True, track_running_stats=True)\n",
       "  (conv5): Conv2d(1024, 2048, kernel_size=(2, 2), stride=(1, 2))\n",
       "  (bn5): BatchNorm2d(2048, eps=1e-05, momentum=0.1, affine=True, track_running_stats=True)\n",
       "  (rnn): Bidirectional_LSTM(\n",
       "    (LSTM1): LSTM(2048, 2048, bidirectional=True)\n",
       "    (embedding1): Linear(in_features=4096, out_features=2048, bias=True)\n",
       "    (LSTM2): LSTM(2048, 2048, bidirectional=True)\n",
       "    (embedding2): Linear(in_features=4096, out_features=19, bias=True)\n",
       "  )\n",
       ")"
      ]
     },
     "execution_count": 44,
     "metadata": {},
     "output_type": "execute_result"
    }
   ],
   "source": [
    "model.to(device)"
   ]
  },
  {
   "cell_type": "code",
   "execution_count": 16,
   "metadata": {},
   "outputs": [],
   "source": [
    "def get_lr(optimizer):\n",
    "    for param_group in optimizer.param_groups:\n",
    "        return param_group['lr']"
   ]
  },
  {
   "cell_type": "code",
   "execution_count": 17,
   "metadata": {},
   "outputs": [],
   "source": [
    "def character_error_rate(preds, labels):\n",
    "    assert len(preds) == len(labels)\n",
    "    errors = 0\n",
    "    for pred, label in zip(preds, labels):\n",
    "        for p, l in zip(pred, label):\n",
    "            errors += int(p != l)\n",
    "    return errors / (len(labels) * len(labels[0]))"
   ]
  },
  {
   "cell_type": "code",
   "execution_count": 18,
   "metadata": {},
   "outputs": [],
   "source": [
    "def train(model):\n",
    "    \n",
    "    model.train()\n",
    "    total_loss = 0\n",
    "    total_val_loss = 0\n",
    "    cer, cer_p = 0, 0\n",
    "    CER = CharErrorRate()\n",
    "    for data, targets in train_loader:\n",
    "        \n",
    "        data, targets = data.to(device), targets.to(device)\n",
    "        \n",
    "        output = model(data)\n",
    "        optim.zero_grad()\n",
    "        loss = criterion(output, targets)\n",
    "        loss.backward()\n",
    "\n",
    "        # torch.nn.utils.clip_grad_norm_(model.parameters(), grad_clip)\n",
    "        optim.step()\n",
    "        total_loss += loss.item()\n",
    "    \n",
    "    model.eval()\n",
    "    with torch.no_grad():\n",
    "        for data, targets in test_loader:\n",
    "            \n",
    "            data, targets = data.to(device), targets.to(device)\n",
    "            \n",
    "            preds = model(data)\n",
    "            val_loss = criterion(preds, targets)\n",
    "            total_val_loss += val_loss.item()\n",
    "            labels = alphabet.decode(targets)\n",
    "            pred_labels = alphabet.decode(preds)\n",
    "            cer_p += CER(pred_labels, labels)\n",
    "            cer += character_error_rate(pred_labels, labels)\n",
    "            \n",
    "    \n",
    "    total_loss /= len(train_loader)\n",
    "    total_val_loss /= len(test_loader)\n",
    "    cer /= len(test_loader)\n",
    "    cer_p /= len(test_loader)\n",
    "    \n",
    "    scheduler.step(total_val_loss)\n",
    "    \n",
    "    print('[Epoch {:3d}]:  lr {:02.6f} | train loss {:5.5f} | val loss {:5.5f} | val CER {:5.5f} | val CER(torch) {:5.5f}'.format(\n",
    "                epoch, get_lr(optim), total_loss, total_val_loss, cer, cer_p))\n",
    "    return total_loss, total_val_loss"
   ]
  },
  {
   "cell_type": "code",
   "execution_count": 19,
   "metadata": {},
   "outputs": [],
   "source": [
    "loss_curve_train, loss_curve_test = [], []"
   ]
  },
  {
   "cell_type": "code",
   "execution_count": 20,
   "metadata": {
    "scrolled": false
   },
   "outputs": [
    {
     "name": "stdout",
     "output_type": "stream",
     "text": [
      "[Epoch   1]:  lr 0.001000 | train loss 0.26652 | val loss 0.17664 | val CER 0.54135 | val CER(torch) 0.54087\n",
      "[Epoch   2]:  lr 0.001000 | train loss 0.12084 | val loss 0.10369 | val CER 0.40000 | val CER(torch) 0.39952\n"
     ]
    },
    {
     "ename": "KeyboardInterrupt",
     "evalue": "",
     "output_type": "error",
     "traceback": [
      "\u001b[0;31m---------------------------------------------------------------------------\u001b[0m",
      "\u001b[0;31mKeyboardInterrupt\u001b[0m                         Traceback (most recent call last)",
      "File \u001b[0;32m<timed exec>:2\u001b[0m, in \u001b[0;36m<module>\u001b[0;34m\u001b[0m\n",
      "Input \u001b[0;32mIn [18]\u001b[0m, in \u001b[0;36mtrain\u001b[0;34m(model)\u001b[0m\n\u001b[1;32m     11\u001b[0m optim\u001b[38;5;241m.\u001b[39mzero_grad()\n\u001b[1;32m     12\u001b[0m loss \u001b[38;5;241m=\u001b[39m criterion(output, targets)\n\u001b[0;32m---> 13\u001b[0m \u001b[43mloss\u001b[49m\u001b[38;5;241;43m.\u001b[39;49m\u001b[43mbackward\u001b[49m\u001b[43m(\u001b[49m\u001b[43m)\u001b[49m\n\u001b[1;32m     15\u001b[0m \u001b[38;5;66;03m# torch.nn.utils.clip_grad_norm_(model.parameters(), grad_clip)\u001b[39;00m\n\u001b[1;32m     16\u001b[0m optim\u001b[38;5;241m.\u001b[39mstep()\n",
      "File \u001b[0;32m~/anaconda3/lib/python3.9/site-packages/torch/_tensor.py:396\u001b[0m, in \u001b[0;36mTensor.backward\u001b[0;34m(self, gradient, retain_graph, create_graph, inputs)\u001b[0m\n\u001b[1;32m    387\u001b[0m \u001b[38;5;28;01mif\u001b[39;00m has_torch_function_unary(\u001b[38;5;28mself\u001b[39m):\n\u001b[1;32m    388\u001b[0m     \u001b[38;5;28;01mreturn\u001b[39;00m handle_torch_function(\n\u001b[1;32m    389\u001b[0m         Tensor\u001b[38;5;241m.\u001b[39mbackward,\n\u001b[1;32m    390\u001b[0m         (\u001b[38;5;28mself\u001b[39m,),\n\u001b[0;32m   (...)\u001b[0m\n\u001b[1;32m    394\u001b[0m         create_graph\u001b[38;5;241m=\u001b[39mcreate_graph,\n\u001b[1;32m    395\u001b[0m         inputs\u001b[38;5;241m=\u001b[39minputs)\n\u001b[0;32m--> 396\u001b[0m \u001b[43mtorch\u001b[49m\u001b[38;5;241;43m.\u001b[39;49m\u001b[43mautograd\u001b[49m\u001b[38;5;241;43m.\u001b[39;49m\u001b[43mbackward\u001b[49m\u001b[43m(\u001b[49m\u001b[38;5;28;43mself\u001b[39;49m\u001b[43m,\u001b[49m\u001b[43m \u001b[49m\u001b[43mgradient\u001b[49m\u001b[43m,\u001b[49m\u001b[43m \u001b[49m\u001b[43mretain_graph\u001b[49m\u001b[43m,\u001b[49m\u001b[43m \u001b[49m\u001b[43mcreate_graph\u001b[49m\u001b[43m,\u001b[49m\u001b[43m \u001b[49m\u001b[43minputs\u001b[49m\u001b[38;5;241;43m=\u001b[39;49m\u001b[43minputs\u001b[49m\u001b[43m)\u001b[49m\n",
      "File \u001b[0;32m~/anaconda3/lib/python3.9/site-packages/torch/autograd/__init__.py:173\u001b[0m, in \u001b[0;36mbackward\u001b[0;34m(tensors, grad_tensors, retain_graph, create_graph, grad_variables, inputs)\u001b[0m\n\u001b[1;32m    168\u001b[0m     retain_graph \u001b[38;5;241m=\u001b[39m create_graph\n\u001b[1;32m    170\u001b[0m \u001b[38;5;66;03m# The reason we repeat same the comment below is that\u001b[39;00m\n\u001b[1;32m    171\u001b[0m \u001b[38;5;66;03m# some Python versions print out the first line of a multi-line function\u001b[39;00m\n\u001b[1;32m    172\u001b[0m \u001b[38;5;66;03m# calls in the traceback and some print out the last line\u001b[39;00m\n\u001b[0;32m--> 173\u001b[0m \u001b[43mVariable\u001b[49m\u001b[38;5;241;43m.\u001b[39;49m\u001b[43m_execution_engine\u001b[49m\u001b[38;5;241;43m.\u001b[39;49m\u001b[43mrun_backward\u001b[49m\u001b[43m(\u001b[49m\u001b[43m  \u001b[49m\u001b[38;5;66;43;03m# Calls into the C++ engine to run the backward pass\u001b[39;49;00m\n\u001b[1;32m    174\u001b[0m \u001b[43m    \u001b[49m\u001b[43mtensors\u001b[49m\u001b[43m,\u001b[49m\u001b[43m \u001b[49m\u001b[43mgrad_tensors_\u001b[49m\u001b[43m,\u001b[49m\u001b[43m \u001b[49m\u001b[43mretain_graph\u001b[49m\u001b[43m,\u001b[49m\u001b[43m \u001b[49m\u001b[43mcreate_graph\u001b[49m\u001b[43m,\u001b[49m\u001b[43m \u001b[49m\u001b[43minputs\u001b[49m\u001b[43m,\u001b[49m\n\u001b[1;32m    175\u001b[0m \u001b[43m    \u001b[49m\u001b[43mallow_unreachable\u001b[49m\u001b[38;5;241;43m=\u001b[39;49m\u001b[38;5;28;43;01mTrue\u001b[39;49;00m\u001b[43m,\u001b[49m\u001b[43m \u001b[49m\u001b[43maccumulate_grad\u001b[49m\u001b[38;5;241;43m=\u001b[39;49m\u001b[38;5;28;43;01mTrue\u001b[39;49;00m\u001b[43m)\u001b[49m\n",
      "\u001b[0;31mKeyboardInterrupt\u001b[0m: "
     ]
    }
   ],
   "source": [
    "%%time\n",
    "\n",
    "for epoch in range(1, 65):\n",
    "    train_loss, test_loss = train(model)\n",
    "    loss_curve_train.append(train_loss)\n",
    "    loss_curve_test.append(test_loss)"
   ]
  },
  {
   "cell_type": "code",
   "execution_count": 21,
   "metadata": {},
   "outputs": [
    {
     "data": {
      "image/png": "[encoded data removed]",
      "text/plain": [
       "<Figure size 720x576 with 1 Axes>"
      ]
     },
     "metadata": {
      "needs_background": "light"
     },
     "output_type": "display_data"
    }
   ],
   "source": [
    "# Visualize loss\n",
    "plt.figure(figsize=(10, 8))\n",
    "    \n",
    "plt.title(\"Training loss\")\n",
    "plt.xlabel(\"#epoch\")\n",
    "plt.ylabel(\"loss\")\n",
    "\n",
    "plt.plot(loss_curve_train, label='train')\n",
    "plt.plot(loss_curve_test, label='test')\n",
    "\n",
    "\n",
    "#plt.yscale('log',base=2)\n",
    "plt.legend()\n",
    "plt.show()"
   ]
  },
  {
   "cell_type": "markdown",
   "metadata": {},
   "source": [
    "## Model error analysis"
   ]
  },
  {
   "cell_type": "code",
   "execution_count": 22,
   "metadata": {},
   "outputs": [],
   "source": [
    "from collections import defaultdict, Counter\n",
    "\n",
    "val_loader = DataLoader(test_dataset, batch_size=1, shuffle=False, num_workers=4)\n",
    "\n",
    "im_by_cer = defaultdict(list)\n",
    "cnt = Counter()\n",
    "\n",
    "model.eval()\n",
    "with torch.no_grad():\n",
    "    for data, target in val_loader:\n",
    "        preds = model(data)\n",
    "        label = alphabet.decode(target)[0]\n",
    "        pred_label = alphabet.decode(preds)[0]\n",
    "        cer = character_error_rate(pred_label, label)\n",
    "        im_by_cer[cer].append((label, pred_label))\n",
    "        cnt[cer] += 1"
   ]
  },
  {
   "cell_type": "code",
   "execution_count": 23,
   "metadata": {},
   "outputs": [
    {
     "name": "stdout",
     "output_type": "stream",
     "text": [
      "Counter({0.2: 148, 0.4: 127, 0.6: 51, 0.0: 43, 0.8: 18, 1.0: 1})\n"
     ]
    }
   ],
   "source": [
    "print(cnt)"
   ]
  },
  {
   "cell_type": "code",
   "execution_count": 24,
   "metadata": {},
   "outputs": [
    {
     "name": "stdout",
     "output_type": "stream",
     "text": [
      "TRUE        PRED        ERROR\n",
      "--------------------------------\n",
      "mpmy5       ngnx6    {m, m, p, y, 5}--->{n, n, g, x, 6}\n"
     ]
    }
   ],
   "source": [
    "from multiset import Multiset\n",
    "\n",
    "max_cer = max(cnt.keys())\n",
    "print('TRUE        PRED        ERROR')\n",
    "print('--------------------------------')\n",
    "for true_lbl, pred_lbl in im_by_cer[max_cer]:\n",
    "    pred_err_smb = Multiset(pred_lbl) - Multiset(true_lbl)\n",
    "    true_err_smb = Multiset(true_lbl) - Multiset(pred_lbl)\n",
    "    print(f'{true_lbl}       {pred_lbl}    {true_err_smb}--->{pred_err_smb}')"
   ]
  },
  {
   "cell_type": "markdown",
   "metadata": {},
   "source": [
    "##### На одной картинке максимум один неверный символ, т.е. качество  распознования достаточно хорошее\n",
    "##### Видно, что большинство ошибок предсказуемы - замена 'n' на 'm', '2' на '3', '5' на '3', '6' на '8' и т.п."
   ]
  },
  {
   "cell_type": "code",
   "execution_count": null,
   "metadata": {},
   "outputs": [],
   "source": []
  }
 ],
 "metadata": {
  "kernelspec": {
   "display_name": "Python 3 (ipykernel)",
   "language": "python",
   "name": "python3"
  },
  "language_info": {
   "codemirror_mode": {
    "name": "ipython",
    "version": 3
   },
   "file_extension": ".py",
   "mimetype": "text/x-python",
   "name": "python",
   "nbconvert_exporter": "python",
   "pygments_lexer": "ipython3",
   "version": "3.9.12"
  }
 },
 "nbformat": 4,
 "nbformat_minor": 4
}
