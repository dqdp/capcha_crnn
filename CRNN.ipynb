{
 "cells": [
  {
   "cell_type": "code",
   "execution_count": 1,
   "metadata": {},
   "outputs": [],
   "source": [
    "import os\n",
    "import matplotlib.pyplot as plt\n",
    "from PIL import Image\n",
    "import random\n",
    "import shutil"
   ]
  },
  {
   "cell_type": "code",
   "execution_count": 2,
   "metadata": {},
   "outputs": [],
   "source": [
    "import torch\n",
    "from torch.utils.data import Dataset, DataLoader\n",
    "from torchvision import datasets\n",
    "from torchvision.transforms import ToTensor, ColorJitter, Compose, Normalize\n",
    "\n",
    "from torch import nn\n",
    "from torch.nn import Module\n",
    "from torch.nn import Conv2d\n",
    "from torch.nn import Linear\n",
    "from torch.nn import ReLU\n",
    "from torch.nn import LogSoftmax\n",
    "from torch.nn import BatchNorm2d\n",
    "from torch.nn import LSTM\n",
    "import torch.nn.functional as F"
   ]
  },
  {
   "cell_type": "code",
   "execution_count": 3,
   "metadata": {},
   "outputs": [],
   "source": [
    "img_dir = './samples/'\n",
    "seed = 42"
   ]
  },
  {
   "cell_type": "markdown",
   "metadata": {},
   "source": [
    "## Prepare data"
   ]
  },
  {
   "cell_type": "code",
   "execution_count": 4,
   "metadata": {},
   "outputs": [],
   "source": [
    "class Alphabet(object):\n",
    "    def __init__(self):\n",
    "        self.symbol2idx = {}\n",
    "        self.idx2symbol = []\n",
    "        self._len = 0\n",
    "        \n",
    "    def add_symbol(self, s):\n",
    "        if s not in self.symbol2idx:\n",
    "            self.idx2symbol.append(s)\n",
    "            self.symbol2idx[s] = self._len\n",
    "            self._len += 1\n",
    "    \n",
    "    def __len__(self):\n",
    "        return self._len"
   ]
  },
  {
   "cell_type": "code",
   "execution_count": 5,
   "metadata": {},
   "outputs": [],
   "source": [
    "class Corpus(object):\n",
    "    def __init__(self, folder_path):\n",
    "        self.dictionary = Alphabet()\n",
    "        self.make_alphabet(folder_path)\n",
    "        # self.text = self.tokenize(path)\n",
    "        \n",
    "    def make_alphabet(self, folder_path):\n",
    "        assert os.path.exists(folder_path)\n",
    "        # Add symbols to the dictionary\n",
    "        for _, _, files in os.walk(folder_path):\n",
    "            for file_name in files:\n",
    "                file_name = file_name.split('.')[0]\n",
    "                for symbol in file_name:\n",
    "                    self.dictionary.add_symbol(symbol)\n",
    "\n",
    "    def tokenize(self, label):\n",
    "        \"\"\"Tokenize file_name.\"\"\"\n",
    "        ids = torch.zeros([len(label), len(self.dictionary)], dtype=torch.float32)\n",
    "        for pos, symbol in enumerate(label):\n",
    "            ids[pos, self.dictionary.symbol2idx[symbol]] = 1.\n",
    "        return ids"
   ]
  },
  {
   "cell_type": "code",
   "execution_count": 6,
   "metadata": {},
   "outputs": [],
   "source": [
    "class CustomImageDataset(Dataset):\n",
    "    def __init__(self, img_dir, corpus, transform=None, target_transform=None):\n",
    "        self.img_labels = []\n",
    "        for _, _, files in os.walk(img_dir):\n",
    "            for file_ in files:\n",
    "                self.img_labels.append(file_)\n",
    "        self.img_dir = img_dir\n",
    "        self.transform = transform\n",
    "        self.target_transform = target_transform\n",
    "        self.corpus = corpus\n",
    "\n",
    "    def __len__(self):\n",
    "        return len(self.img_labels)\n",
    "\n",
    "    def __getitem__(self, idx):\n",
    "        filename = self.img_labels[idx]\n",
    "        img_path = os.path.join(self.img_dir, filename)\n",
    "        image = Image.open(img_path).convert('RGB')\n",
    "        label = self.corpus.tokenize(filename.split('.')[0])\n",
    "        if self.transform:\n",
    "            image = self.transform(image)\n",
    "        if self.target_transform:\n",
    "            label = self.target_transform(label)\n",
    "        return image, label"
   ]
  },
  {
   "cell_type": "code",
   "execution_count": 7,
   "metadata": {
    "scrolled": true
   },
   "outputs": [],
   "source": [
    "all_files = []\n",
    "for _, _, files in os.walk(img_dir):\n",
    "    for file_ in files:\n",
    "        all_files.append(file_)\n",
    "        \n",
    "random.shuffle(all_files)\n",
    "border = int(0.8*len(all_files))\n",
    "train_files = all_files[:border]\n",
    "test_files = all_files[border:]"
   ]
  },
  {
   "cell_type": "code",
   "execution_count": 8,
   "metadata": {},
   "outputs": [],
   "source": [
    "train_data_dir = 'data/train/'\n",
    "test_data_dir = 'data/test/'\n",
    "\n",
    "if not os.path.exists(train_data_dir):\n",
    "    os.makedirs(train_data_dir)\n",
    "    for file in train_files:\n",
    "        shutil.copy(os.path.join(img_dir, file), train_data_dir)\n",
    "\n",
    "if not os.path.exists(test_data_dir):\n",
    "    os.makedirs(test_data_dir)\n",
    "    for file in test_files:\n",
    "        shutil.copy(os.path.join(img_dir, file), test_data_dir)"
   ]
  },
  {
   "cell_type": "code",
   "execution_count": 9,
   "metadata": {},
   "outputs": [],
   "source": [
    "corpus = Corpus(train_data_dir)\n",
    "\n",
    "train_dataset = CustomImageDataset(img_dir=train_data_dir,\n",
    "                                   corpus=corpus,\n",
    "                                   transform=Compose([\n",
    "                                            ColorJitter(),\n",
    "                                            ToTensor(),\n",
    "                                            Normalize(mean=[0.5, 0.5, 0.5], std=[0.5, 0.5, 0.5]),\n",
    "                                   ]))\n",
    "\n",
    "test_dataset = CustomImageDataset(img_dir=test_data_dir,\n",
    "                                  corpus=corpus,\n",
    "                                  transform=Compose([\n",
    "                                            ToTensor(),\n",
    "                                            Normalize(mean=[0.5, 0.5, 0.5], std=[0.5, 0.5, 0.5]),\n",
    "                                 ]))"
   ]
  },
  {
   "cell_type": "code",
   "execution_count": 10,
   "metadata": {},
   "outputs": [],
   "source": [
    "train_loader = DataLoader(train_dataset, batch_size=64, shuffle=True, num_workers=8)\n",
    "test_loader = DataLoader(test_dataset, batch_size=64, shuffle=False, num_workers=8)"
   ]
  },
  {
   "cell_type": "markdown",
   "metadata": {},
   "source": [
    "## Create Model"
   ]
  },
  {
   "cell_type": "code",
   "execution_count": 11,
   "metadata": {},
   "outputs": [],
   "source": [
    "class RNN(torch.nn.Module):\n",
    "    def __init__(self, class_num, hidden_unit):\n",
    "        super(RNN, self).__init__()\n",
    "        self.Bidirectional_LSTM1 = torch.nn.LSTM(512, hidden_unit, bidirectional=True)\n",
    "        self.embedding1 = torch.nn.Linear(hidden_unit * 2, 512)\n",
    "        self.Bidirectional_LSTM2 = torch.nn.LSTM(512, hidden_unit, bidirectional=True)\n",
    "        self.embedding2 = torch.nn.Linear(hidden_unit * 2, class_num)\n",
    "\n",
    "    def forward(self, x):\n",
    "        x = self.Bidirectional_LSTM1(x)   # LSTM output: output, (h_n, c_n)\n",
    "        T, b, h = x[0].size()   # x[0]: (seq_len, batch, num_directions * hidden_size)\n",
    "        x = self.embedding1(x[0].view(T * b, h))  # pytorch view() reshape as [T * b, nOut]\n",
    "        x = x.view(T, b, -1)  # [7, b, 512]\n",
    "        x = self.Bidirectional_LSTM2(x)\n",
    "        T, b, h = x[0].size()\n",
    "        x = self.embedding2(x[0].view(T * b, h))\n",
    "        x = x.view(T, b, -1)\n",
    "        return x  # [16,b,class_num]\n"
   ]
  },
  {
   "cell_type": "code",
   "execution_count": 12,
   "metadata": {},
   "outputs": [],
   "source": [
    "class CapchaNet(Module):\n",
    "    def __init__(self, alphabet_len):\n",
    "        super(CapchaNet, self).__init__()\n",
    "        \n",
    "        self.conv1 = Conv2d(3, 16, (3, 3), stride = (1, 2)) # 99x48\n",
    "        self.bn1 = BatchNorm2d(16)\n",
    "        self.conv2 = Conv2d(16, 32, (3, 3), stride=2) # 50x24\n",
    "        self.bn2 = BatchNorm2d(32)\n",
    "        self.conv3 = Conv2d(32, 64, (3, 3) , stride=2) # 26x12\n",
    "        self.bn3 = BatchNorm2d(64)\n",
    "        self.conv4 = Conv2d(64, 128, (3, 3) , stride=2) # 13x6\n",
    "        self.bn4 = BatchNorm2d(128)\n",
    "        self.conv5 = Conv2d(128, 256, (3, 3)) # 9x3\n",
    "        self.bn5 = BatchNorm2d(256)\n",
    "        self.conv6 = Conv2d(256, 512, (3, 5)) # bx5x1x512\n",
    "        self.bn6 = BatchNorm2d(512)\n",
    "        # self.glob_pool = AdaptiveAvgPool2d((1,1)) \n",
    "        self.rnn = RNN(alphabet_len, 512)\n",
    "        \n",
    "    def conv_block(self, in_cnannels, out_shannels, kernel=(3, 3), stride=True, bn=True):\n",
    "        pass\n",
    "\n",
    "    \n",
    "    def forward(self, x):\n",
    "        \n",
    "        x = self.bn1(F.relu(self.conv1(x)))\n",
    "        x = self.bn2(F.relu(self.conv2(x)))\n",
    "        x = self.bn3(F.relu(self.conv3(x)))\n",
    "        x = self.bn4(F.relu(self.conv4(x)))\n",
    "        x = self.bn5(F.relu(self.conv5(x)))\n",
    "        x = self.bn6(F.relu(self.conv6(x)))\n",
    "        # x = self.glob_pool(x)\n",
    "        #x = flatten(x, start_dim=1)\n",
    "        \n",
    "        b, c, h, w = x.size()\n",
    "        # print(x.size()): b,c,h,w\n",
    "        assert h == 1   # \"the height of conv must be 1\"\n",
    "        \n",
    "        x = x.squeeze(2)  # remove h dimension, b *512 * width\n",
    "        x = x.permute(2, 0, 1)  # [w, b, c] = [seq_len, batch, input_size]\n",
    "        x = self.rnn(x)\n",
    "        x = x.permute(1, 0, 2)\n",
    "        output = F.log_softmax(x, dim=2) \n",
    "        return output"
   ]
  },
  {
   "cell_type": "markdown",
   "metadata": {},
   "source": [
    "## Train"
   ]
  },
  {
   "cell_type": "code",
   "execution_count": 13,
   "metadata": {},
   "outputs": [],
   "source": [
    "import string\n",
    "import math\n",
    "\n",
    "ntokens = len(train_dataset.corpus.dictionary)\n",
    "model = CapchaNet(ntokens)\n",
    "criterion = nn.CrossEntropyLoss()\n",
    "grad_clip = 0.1\n",
    "log_interval = 10\n",
    "lr = 0.001\n",
    "optim = torch.optim.Adam(model.parameters(), lr=lr)"
   ]
  },
  {
   "cell_type": "code",
   "execution_count": 14,
   "metadata": {},
   "outputs": [],
   "source": [
    "def train(model):\n",
    "    \n",
    "    model.train()\n",
    "    total_loss = 0\n",
    "    total_val_loss = 0\n",
    "    for batch, (data, targets) in enumerate(train_loader):\n",
    "        \n",
    "        output = model(data)\n",
    "        \n",
    "        optim.zero_grad()\n",
    "        \n",
    "        loss = criterion(output, targets)\n",
    "        loss.backward()\n",
    "\n",
    "        # torch.nn.utils.clip_grad_norm_(model.parameters(), grad_clip)\n",
    "        optim.step()\n",
    "        total_loss += loss.item()\n",
    "    \n",
    "    model.eval()\n",
    "    with torch.no_grad():\n",
    "        for data, targets in test_loader:\n",
    "            preds = model(data)\n",
    "            val_loss = criterion(preds, targets)\n",
    "            total_val_loss += val_loss.item()\n",
    "    \n",
    "    total_loss /= len(train_loader)\n",
    "    total_val_loss /= len(test_loader)\n",
    "    print('epoch {:3d} | lr {:02.3f} | train loss {:5.4f} | test loss {:5.4f}'.format(\n",
    "                epoch + 1, lr, total_loss, total_val_loss))\n",
    "    return total_loss, total_val_loss"
   ]
  },
  {
   "cell_type": "code",
   "execution_count": 15,
   "metadata": {},
   "outputs": [],
   "source": [
    "loss_curve_train, loss_curve_test = [], []"
   ]
  },
  {
   "cell_type": "code",
   "execution_count": 16,
   "metadata": {
    "scrolled": false
   },
   "outputs": [
    {
     "name": "stdout",
     "output_type": "stream",
     "text": [
      "epoch   1 | lr 0.001 | train loss 0.3614 | test loss 0.4502\n",
      "epoch   2 | lr 0.001 | train loss 0.2083 | test loss 0.4237\n",
      "epoch   3 | lr 0.001 | train loss 0.1247 | test loss 0.1794\n",
      "epoch   4 | lr 0.001 | train loss 0.0834 | test loss 0.1436\n",
      "epoch   5 | lr 0.001 | train loss 0.0666 | test loss 0.1141\n",
      "epoch   6 | lr 0.001 | train loss 0.0627 | test loss 0.0967\n",
      "epoch   7 | lr 0.001 | train loss 0.0575 | test loss 0.1078\n",
      "epoch   8 | lr 0.001 | train loss 0.0530 | test loss 0.1009\n",
      "epoch   9 | lr 0.001 | train loss 0.0484 | test loss 0.1053\n",
      "epoch  10 | lr 0.001 | train loss 0.0472 | test loss 0.0864\n",
      "epoch  11 | lr 0.001 | train loss 0.0451 | test loss 0.0772\n",
      "epoch  12 | lr 0.001 | train loss 0.0441 | test loss 0.0955\n",
      "epoch  13 | lr 0.001 | train loss 0.0453 | test loss 0.0935\n",
      "epoch  14 | lr 0.001 | train loss 0.0439 | test loss 0.0984\n",
      "epoch  15 | lr 0.001 | train loss 0.0448 | test loss 0.1147\n",
      "epoch  16 | lr 0.001 | train loss 0.0452 | test loss 0.2041\n",
      "epoch  17 | lr 0.001 | train loss 0.0496 | test loss 0.0922\n",
      "epoch  18 | lr 0.001 | train loss 0.0500 | test loss 0.1141\n",
      "epoch  19 | lr 0.001 | train loss 0.0473 | test loss 0.0944\n",
      "epoch  20 | lr 0.001 | train loss 0.0447 | test loss 0.1046\n",
      "epoch  21 | lr 0.001 | train loss 0.0443 | test loss 0.1150\n",
      "epoch  22 | lr 0.001 | train loss 0.0431 | test loss 0.0937\n",
      "epoch  23 | lr 0.001 | train loss 0.0421 | test loss 0.0952\n",
      "epoch  24 | lr 0.001 | train loss 0.0393 | test loss 0.0775\n",
      "epoch  25 | lr 0.001 | train loss 0.0399 | test loss 0.0828\n",
      "epoch  26 | lr 0.001 | train loss 0.0385 | test loss 0.0846\n",
      "epoch  27 | lr 0.001 | train loss 0.0392 | test loss 0.0759\n",
      "epoch  28 | lr 0.001 | train loss 0.0383 | test loss 0.0749\n",
      "epoch  29 | lr 0.001 | train loss 0.0392 | test loss 0.0752\n",
      "epoch  30 | lr 0.001 | train loss 0.0390 | test loss 0.0715\n",
      "epoch  31 | lr 0.001 | train loss 0.0383 | test loss 0.0721\n",
      "epoch  32 | lr 0.001 | train loss 0.0388 | test loss 0.0726\n",
      "epoch  33 | lr 0.001 | train loss 0.0394 | test loss 0.0735\n",
      "epoch  34 | lr 0.001 | train loss 0.0388 | test loss 0.0741\n",
      "epoch  35 | lr 0.001 | train loss 0.0380 | test loss 0.0733\n",
      "epoch  36 | lr 0.001 | train loss 0.0394 | test loss 0.0744\n",
      "epoch  37 | lr 0.001 | train loss 0.0388 | test loss 0.0741\n",
      "epoch  38 | lr 0.001 | train loss 0.0382 | test loss 0.0732\n",
      "epoch  39 | lr 0.001 | train loss 0.0399 | test loss 0.0728\n",
      "epoch  40 | lr 0.001 | train loss 0.0373 | test loss 0.0728\n",
      "epoch  41 | lr 0.001 | train loss 0.0393 | test loss 0.0723\n",
      "epoch  42 | lr 0.001 | train loss 0.0384 | test loss 0.0729\n",
      "epoch  43 | lr 0.001 | train loss 0.0386 | test loss 0.0728\n",
      "epoch  44 | lr 0.001 | train loss 0.0381 | test loss 0.0728\n",
      "epoch  45 | lr 0.001 | train loss 0.0379 | test loss 0.0723\n",
      "epoch  46 | lr 0.001 | train loss 0.0397 | test loss 0.0717\n",
      "epoch  47 | lr 0.001 | train loss 0.0390 | test loss 0.0724\n",
      "epoch  48 | lr 0.001 | train loss 0.0388 | test loss 0.0725\n",
      "epoch  49 | lr 0.001 | train loss 0.0384 | test loss 0.0729\n",
      "epoch  50 | lr 0.001 | train loss 0.0390 | test loss 0.0732\n",
      "epoch  51 | lr 0.001 | train loss 0.0386 | test loss 0.0731\n",
      "epoch  52 | lr 0.001 | train loss 0.0391 | test loss 0.0722\n",
      "epoch  53 | lr 0.001 | train loss 0.0387 | test loss 0.0729\n",
      "epoch  54 | lr 0.001 | train loss 0.0387 | test loss 0.0724\n",
      "epoch  55 | lr 0.001 | train loss 0.0392 | test loss 0.0718\n",
      "epoch  56 | lr 0.001 | train loss 0.0385 | test loss 0.0714\n",
      "epoch  57 | lr 0.001 | train loss 0.0385 | test loss 0.0712\n",
      "epoch  58 | lr 0.001 | train loss 0.0389 | test loss 0.0711\n",
      "epoch  59 | lr 0.001 | train loss 0.0397 | test loss 0.0714\n",
      "epoch  60 | lr 0.001 | train loss 0.0388 | test loss 0.0754\n",
      "epoch  61 | lr 0.001 | train loss 0.0387 | test loss 0.0737\n",
      "epoch  62 | lr 0.001 | train loss 0.0382 | test loss 0.0703\n",
      "epoch  63 | lr 0.001 | train loss 0.0391 | test loss 0.0703\n",
      "epoch  64 | lr 0.001 | train loss 0.0390 | test loss 0.0707\n",
      "epoch  65 | lr 0.001 | train loss 0.0383 | test loss 0.0706\n",
      "epoch  66 | lr 0.001 | train loss 0.0383 | test loss 0.0702\n",
      "epoch  67 | lr 0.001 | train loss 0.0391 | test loss 0.0709\n",
      "epoch  68 | lr 0.001 | train loss 0.0384 | test loss 0.0704\n",
      "epoch  69 | lr 0.001 | train loss 0.0386 | test loss 0.0710\n",
      "epoch  70 | lr 0.001 | train loss 0.0381 | test loss 0.0705\n"
     ]
    }
   ],
   "source": [
    "for epoch in range(50):\n",
    "    train_loss, test_loss = train(model)\n",
    "    loss_curve_train.append(train_loss)\n",
    "    loss_curve_test.append(test_loss)"
   ]
  },
  {
   "cell_type": "code",
   "execution_count": 17,
   "metadata": {},
   "outputs": [
    {
     "data": {
      "image/png": "[encoded data removed]",
      "text/plain": [
       "<Figure size 720x576 with 1 Axes>"
      ]
     },
     "metadata": {
      "needs_background": "light"
     },
     "output_type": "display_data"
    }
   ],
   "source": [
    "# Visualize loss\n",
    "plt.figure(figsize=(10, 8))\n",
    "    \n",
    "plt.title(\"Training loss\")\n",
    "plt.xlabel(\"#epoch\")\n",
    "plt.ylabel(\"loss\")\n",
    "\n",
    "plt.plot(loss_curve_train, label='train')\n",
    "plt.plot(loss_curve_test, label='test')\n",
    "\n",
    "\n",
    "#plt.yscale('log',base=2)\n",
    "plt.legend()\n",
    "plt.show()"
   ]
  },
  {
   "cell_type": "code",
   "execution_count": null,
   "metadata": {},
   "outputs": [],
   "source": []
  }
 ],
 "metadata": {
  "kernelspec": {
   "display_name": "Python 3",
   "language": "python",
   "name": "python3"
  },
  "language_info": {
   "codemirror_mode": {
    "name": "ipython",
    "version": 3
   },
   "file_extension": ".py",
   "mimetype": "text/x-python",
   "name": "python",
   "nbconvert_exporter": "python",
   "pygments_lexer": "ipython3",
   "version": "3.8.5"
  }
 },
 "nbformat": 4,
 "nbformat_minor": 4
}
