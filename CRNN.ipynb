{
 "cells": [
  {
   "cell_type": "code",
   "execution_count": 1,
   "metadata": {},
   "outputs": [],
   "source": [
    "import os\n",
    "import matplotlib.pyplot as plt\n",
    "from PIL import Image\n",
    "import random\n",
    "import shutil"
   ]
  },
  {
   "cell_type": "code",
   "execution_count": 2,
   "metadata": {},
   "outputs": [],
   "source": [
    "import torch\n",
    "from torch.utils.data import Dataset, DataLoader\n",
    "from torchvision import datasets\n",
    "from torchvision.transforms import ToTensor, ColorJitter, Compose, Normalize\n",
    "\n",
    "from torch import nn\n",
    "from torch.nn import Module\n",
    "from torch.nn import Conv2d\n",
    "from torch.nn import Linear\n",
    "from torch.nn import ReLU\n",
    "from torch.nn import LogSoftmax\n",
    "from torch.nn import BatchNorm2d\n",
    "from torch.nn import LSTM\n",
    "from torch import flatten\n",
    "from torchmetrics import CharErrorRate\n",
    "import torch.nn.functional as F\n",
    "from torch.nn import CTCLoss\n",
    "torch.cuda.empty_cache()"
   ]
  },
  {
   "cell_type": "markdown",
   "metadata": {},
   "source": [
    "# Prepare data"
   ]
  },
  {
   "cell_type": "markdown",
   "metadata": {},
   "source": [
    "### Alphabet class"
   ]
  },
  {
   "cell_type": "code",
   "execution_count": 3,
   "metadata": {},
   "outputs": [],
   "source": [
    "class Alphabet(object):\n",
    "    def __init__(self, folder_path):\n",
    "        self.symbol2idx = {}\n",
    "        self.idx2symbol = []\n",
    "        self._len = 0\n",
    "        self.make_alphabet(folder_path)\n",
    "        \n",
    "    def add_symbol(self, s):\n",
    "        if s not in self.symbol2idx:\n",
    "            self.idx2symbol.append(s)\n",
    "            self.symbol2idx[s] = self._len\n",
    "            self._len += 1\n",
    "            \n",
    "    def make_alphabet(self, folder_path):\n",
    "        assert os.path.exists(folder_path)\n",
    "        for _, _, files in os.walk(folder_path):\n",
    "            for file_name in files:\n",
    "                file_name = file_name.split('.')[0]\n",
    "                for symbol in file_name:\n",
    "                    self.add_symbol(symbol)\n",
    "        \n",
    "    def __len__(self):\n",
    "        return self._len\n",
    "    \n",
    "    def encode(self, label):\n",
    "        ids = torch.zeros([len(label), len(self)], dtype=torch.float32)\n",
    "        for pos, symbol in enumerate(label):\n",
    "            ids[pos, self.symbol2idx[symbol]] = 1.\n",
    "        return ids\n",
    "    \n",
    "    def decode(self, ids):\n",
    "        idxs = ids.argmax(dim=2).tolist()\n",
    "        labels = [''.join([self.idx2symbol[i] for i in b]) for b in idxs]\n",
    "        return labels"
   ]
  },
  {
   "cell_type": "code",
   "execution_count": 4,
   "metadata": {},
   "outputs": [],
   "source": [
    "img_dir = './samples/'\n",
    "\n",
    "alphabet = Alphabet(img_dir)"
   ]
  },
  {
   "cell_type": "markdown",
   "metadata": {},
   "source": [
    "### Dataset class"
   ]
  },
  {
   "cell_type": "code",
   "execution_count": 5,
   "metadata": {},
   "outputs": [],
   "source": [
    "class CustomImageDataset(Dataset):\n",
    "    def __init__(self, img_dir, transform=None):\n",
    "        self.img_labels = []\n",
    "        for _, _, files in os.walk(img_dir):\n",
    "            for file_ in files:\n",
    "                self.img_labels.append(file_)\n",
    "        self.img_dir = img_dir\n",
    "        self.transform = transform\n",
    "\n",
    "    def __len__(self):\n",
    "        return len(self.img_labels)\n",
    "\n",
    "    def __getitem__(self, idx):\n",
    "        filename = self.img_labels[idx]\n",
    "        img_path = os.path.join(self.img_dir, filename)\n",
    "        image = Image.open(img_path).convert('RGB')\n",
    "        label = alphabet.encode(filename.split('.')[0])\n",
    "        if self.transform:\n",
    "            image = self.transform(image)\n",
    "        return image, label"
   ]
  },
  {
   "cell_type": "markdown",
   "metadata": {},
   "source": [
    "### Train/Test split"
   ]
  },
  {
   "cell_type": "code",
   "execution_count": 6,
   "metadata": {
    "scrolled": true
   },
   "outputs": [],
   "source": [
    "all_files = []\n",
    "for _, _, files in os.walk(img_dir):\n",
    "    for file_ in files:\n",
    "        all_files.append(file_)\n",
    "        \n",
    "random.shuffle(all_files)\n",
    "border = int(0.8 * len(all_files))\n",
    "train_files = all_files[:border]\n",
    "test_files = all_files[border:]"
   ]
  },
  {
   "cell_type": "code",
   "execution_count": 7,
   "metadata": {},
   "outputs": [],
   "source": [
    "train_data_dir = 'data/train/'\n",
    "test_data_dir = 'data/test/'\n",
    "\n",
    "if not os.path.exists(train_data_dir):\n",
    "    os.makedirs(train_data_dir)\n",
    "    for file in train_files:\n",
    "        shutil.copy(os.path.join(img_dir, file), train_data_dir)\n",
    "\n",
    "if not os.path.exists(test_data_dir):\n",
    "    os.makedirs(test_data_dir)\n",
    "    for file in test_files:\n",
    "        shutil.copy(os.path.join(img_dir, file), test_data_dir)"
   ]
  },
  {
   "cell_type": "markdown",
   "metadata": {},
   "source": [
    "### Find mean and std of dataset"
   ]
  },
  {
   "cell_type": "code",
   "execution_count": 8,
   "metadata": {},
   "outputs": [],
   "source": [
    "dataset = CustomImageDataset(img_dir=train_data_dir,\n",
    "                                   transform=Compose([\n",
    "                                            ColorJitter(),\n",
    "                                            ToTensor(),\n",
    "                                   ]))"
   ]
  },
  {
   "cell_type": "code",
   "execution_count": 9,
   "metadata": {},
   "outputs": [],
   "source": [
    "data_loader = DataLoader(dataset, batch_size=16, shuffle=True, num_workers=4)"
   ]
  },
  {
   "cell_type": "code",
   "execution_count": 10,
   "metadata": {},
   "outputs": [
    {
     "name": "stdout",
     "output_type": "stream",
     "text": [
      "tensor([0.7151, 0.7151, 0.7151])\n",
      "tensor([0.3135, 0.3135, 0.3135])\n"
     ]
    }
   ],
   "source": [
    "nimages = 0\n",
    "mean = 0.0\n",
    "var = 0.0\n",
    "for i_batch, batch_target in enumerate(data_loader):\n",
    "    batch = batch_target[0]\n",
    "    # Rearrange batch to be the shape of [B, C, W * H]\n",
    "    batch = batch.view(batch.size(0), batch.size(1), -1)\n",
    "    # Update total number of images\n",
    "    nimages += batch.size(0)\n",
    "    # Compute mean and std here\n",
    "    mean += batch.mean(2).sum(0) \n",
    "    var += batch.var(2).sum(0)\n",
    "\n",
    "mean /= nimages\n",
    "var /= nimages\n",
    "std = torch.sqrt(var)\n",
    "\n",
    "print(mean)\n",
    "print(std)"
   ]
  },
  {
   "cell_type": "code",
   "execution_count": 11,
   "metadata": {},
   "outputs": [],
   "source": [
    "train_dataset = CustomImageDataset(img_dir=train_data_dir,\n",
    "                                   transform=Compose([\n",
    "                                            #ColorJitter(),\n",
    "                                            ToTensor(),\n",
    "                                            Normalize(mean=[0.7151, 0.7151, 0.7151], std=[0.3136, 0.3136, 0.3136]),\n",
    "                                   ]))\n",
    "\n",
    "test_dataset = CustomImageDataset(img_dir=test_data_dir,\n",
    "                                  transform=Compose([\n",
    "                                            ToTensor(),\n",
    "                                            Normalize(mean=[0.7151, 0.7151, 0.7151], std=[0.3136, 0.3136, 0.3136]),\n",
    "                                 ]))"
   ]
  },
  {
   "cell_type": "code",
   "execution_count": 12,
   "metadata": {},
   "outputs": [],
   "source": [
    "train_loader = DataLoader(train_dataset, batch_size=10, shuffle=True, num_workers=6)\n",
    "test_loader = DataLoader(test_dataset, batch_size=10, shuffle=False, num_workers=6)"
   ]
  },
  {
   "cell_type": "markdown",
   "metadata": {},
   "source": [
    "## Create Model"
   ]
  },
  {
   "cell_type": "code",
   "execution_count": 13,
   "metadata": {},
   "outputs": [],
   "source": [
    "class Bidirectional_LSTM(torch.nn.Module):\n",
    "    def __init__(self, class_num, hidden_unit):\n",
    "        super(Bidirectional_LSTM, self).__init__()\n",
    "        \n",
    "        self.LSTM1 = torch.nn.LSTM(2048, hidden_unit, bidirectional=True, dropout=0.2)\n",
    "        self.embedding1 = torch.nn.Linear(hidden_unit * 2, 2048)\n",
    "        self.LSTM2 = torch.nn.LSTM(2048, hidden_unit, bidirectional=True, dropout=0.2)\n",
    "        self.embedding2 = torch.nn.Linear(hidden_unit * 2, class_num)\n",
    "\n",
    "    def forward(self, x):\n",
    "        x = self.LSTM1(x)   # LSTM output: output, (h_n, c_n)\n",
    "        T, b, h = x[0].size()   # x[0]: (seq_len, batch, num_directions * hidden_size)\n",
    "        x = self.embedding1(x[0].view(T * b, h))  # pytorch view() reshape as [T * b, nOut]\n",
    "        x = x.view(T, b, -1)  # [seq_len, b, 512]\n",
    "        \n",
    "        x = self.LSTM2(x)\n",
    "        T, b, h = x[0].size()\n",
    "        x = self.embedding2(x[0].view(T * b, h))\n",
    "        x = x.view(T, b, -1)\n",
    "        \n",
    "        return x\n"
   ]
  },
  {
   "cell_type": "code",
   "execution_count": 14,
   "metadata": {},
   "outputs": [],
   "source": [
    "class CapchaNet(Module):\n",
    "    def __init__(self, alphabet_len):\n",
    "        super(CapchaNet, self).__init__()\n",
    "        \n",
    "        self.conv1 = Conv2d(3, 128, (3, 3), stride=2) # 99x24\n",
    "        self.bn1 = BatchNorm2d(128)\n",
    "        self.conv2 = Conv2d(128, 256, (3, 3), stride=2) # 48x11\n",
    "        self.bn2 = BatchNorm2d(256)\n",
    "        self.conv3 = Conv2d(256, 512, (3, 3), stride=2) # 23x5\n",
    "        self.bn3 = BatchNorm2d(512)\n",
    "        self.conv4 = Conv2d(512, 1024, (3, 3), stride=2) # 11x2\n",
    "        self.bn4 = BatchNorm2d(1024)\n",
    "        self.conv5 = Conv2d(1024, 2048, (2, 2), stride=(1, 2)) # 5X1\n",
    "        self.bn5 = BatchNorm2d(2048)\n",
    "        #self.conv6 = Conv2d(2048, 4096, (1, 1)) # 5X1\n",
    "        #self.bn6 = BatchNorm2d(4096)\n",
    "        self.rnn = Bidirectional_LSTM(alphabet_len, 2048)\n",
    "    \n",
    "    def forward(self, x):\n",
    "        \n",
    "        x = self.bn1(F.relu(self.conv1(x)))\n",
    "        x = self.bn2(F.relu(self.conv2(x)))\n",
    "        x = self.bn3(F.relu(self.conv3(x)))\n",
    "        x = self.bn4(F.relu(self.conv4(x)))\n",
    "        x = self.bn5(F.relu(self.conv5(x)))\n",
    "        #x = self.bn6(F.relu(self.conv6(x)))\n",
    "        \n",
    "        x = x.squeeze(2)  # remove h dimension\n",
    "        x = x.permute(2, 0, 1)  # [w, b, c] = [seq_len, batch, input_size]\n",
    "        x = self.rnn(x)\n",
    "        \n",
    "        x = x.permute(1, 0, 2)\n",
    "        output = F.log_softmax(x, dim=2)\n",
    "        \n",
    "        return output"
   ]
  },
  {
   "cell_type": "markdown",
   "metadata": {},
   "source": [
    "## Train model"
   ]
  },
  {
   "cell_type": "code",
   "execution_count": 15,
   "metadata": {},
   "outputs": [
    {
     "name": "stderr",
     "output_type": "stream",
     "text": [
      "/home/alex/anaconda3/lib/python3.8/site-packages/torch/nn/modules/rnn.py:62: UserWarning: dropout option adds dropout after all but last recurrent layer, so non-zero dropout expects num_layers greater than 1, but got dropout=0.2 and num_layers=1\n",
      "  warnings.warn(\"dropout option adds dropout after all but last \"\n"
     ]
    }
   ],
   "source": [
    "import string\n",
    "import math\n",
    "from torch.optim import lr_scheduler\n",
    "\n",
    "ntokens = len(alphabet)\n",
    "model = CapchaNet(ntokens)\n",
    "criterion = nn.CrossEntropyLoss()\n",
    "grad_clip = 0.1\n",
    "lr = torch.tensor(2e-4)\n",
    "optim = torch.optim.Adam(model.parameters(), lr=lr)\n",
    "scheduler = lr_scheduler.ReduceLROnPlateau(optim, mode='min',\n",
    "                                           factor=0.5, patience=7, verbose=True)"
   ]
  },
  {
   "cell_type": "code",
   "execution_count": 16,
   "metadata": {},
   "outputs": [
    {
     "name": "stdout",
     "output_type": "stream",
     "text": [
      "cuda\n"
     ]
    }
   ],
   "source": [
    "device = torch.device(\"cuda\" if torch.cuda.is_available() else \"cpu\")\n",
    "print(device)"
   ]
  },
  {
   "cell_type": "code",
   "execution_count": 17,
   "metadata": {},
   "outputs": [
    {
     "data": {
      "text/plain": [
       "CapchaNet(\n",
       "  (conv1): Conv2d(3, 128, kernel_size=(3, 3), stride=(2, 2))\n",
       "  (bn1): BatchNorm2d(128, eps=1e-05, momentum=0.1, affine=True, track_running_stats=True)\n",
       "  (conv2): Conv2d(128, 256, kernel_size=(3, 3), stride=(2, 2))\n",
       "  (bn2): BatchNorm2d(256, eps=1e-05, momentum=0.1, affine=True, track_running_stats=True)\n",
       "  (conv3): Conv2d(256, 512, kernel_size=(3, 3), stride=(2, 2))\n",
       "  (bn3): BatchNorm2d(512, eps=1e-05, momentum=0.1, affine=True, track_running_stats=True)\n",
       "  (conv4): Conv2d(512, 1024, kernel_size=(3, 3), stride=(2, 2))\n",
       "  (bn4): BatchNorm2d(1024, eps=1e-05, momentum=0.1, affine=True, track_running_stats=True)\n",
       "  (conv5): Conv2d(1024, 2048, kernel_size=(2, 2), stride=(1, 2))\n",
       "  (bn5): BatchNorm2d(2048, eps=1e-05, momentum=0.1, affine=True, track_running_stats=True)\n",
       "  (rnn): Bidirectional_LSTM(\n",
       "    (LSTM1): LSTM(2048, 2048, dropout=0.2, bidirectional=True)\n",
       "    (embedding1): Linear(in_features=4096, out_features=2048, bias=True)\n",
       "    (LSTM2): LSTM(2048, 2048, dropout=0.2, bidirectional=True)\n",
       "    (embedding2): Linear(in_features=4096, out_features=19, bias=True)\n",
       "  )\n",
       ")"
      ]
     },
     "execution_count": 17,
     "metadata": {},
     "output_type": "execute_result"
    }
   ],
   "source": [
    "model.to(device)"
   ]
  },
  {
   "cell_type": "code",
   "execution_count": 18,
   "metadata": {},
   "outputs": [],
   "source": [
    "def get_lr(optimizer):\n",
    "    for param_group in optimizer.param_groups:\n",
    "        return param_group['lr']"
   ]
  },
  {
   "cell_type": "code",
   "execution_count": 19,
   "metadata": {},
   "outputs": [],
   "source": [
    "def character_error_rate(preds, labels):\n",
    "    assert len(preds) == len(labels)\n",
    "    errors = 0\n",
    "    for pred, label in zip(preds, labels):\n",
    "        for p, l in zip(pred, label):\n",
    "            errors += int(p != l)\n",
    "    return errors / (len(labels) * len(labels[0]))"
   ]
  },
  {
   "cell_type": "code",
   "execution_count": 20,
   "metadata": {},
   "outputs": [],
   "source": [
    "def train(model):\n",
    "    \n",
    "    model.train()\n",
    "    total_loss = 0\n",
    "    total_val_loss = 0\n",
    "    cer, cer_p = 0, 0\n",
    "    CER = CharErrorRate()\n",
    "    for data, targets in train_loader:\n",
    "        \n",
    "        data, targets = data.to(device), targets.to(device)\n",
    "        \n",
    "        output = model(data)\n",
    "        optim.zero_grad()\n",
    "        loss = criterion(output, targets)\n",
    "        loss.backward()\n",
    "\n",
    "        # torch.nn.utils.clip_grad_norm_(model.parameters(), grad_clip)\n",
    "        optim.step()\n",
    "        total_loss += loss.item()\n",
    "    \n",
    "    model.eval()\n",
    "    with torch.no_grad():\n",
    "        for data, targets in test_loader:\n",
    "            \n",
    "            data, targets = data.to(device), targets.to(device)\n",
    "            \n",
    "            preds = model(data)\n",
    "            val_loss = criterion(preds, targets)\n",
    "            total_val_loss += val_loss.item()\n",
    "            labels = alphabet.decode(targets)\n",
    "            pred_labels = alphabet.decode(preds)\n",
    "            cer_p += CER(pred_labels, labels)\n",
    "            cer += character_error_rate(pred_labels, labels)\n",
    "            \n",
    "    \n",
    "    total_loss /= len(train_loader)\n",
    "    total_val_loss /= len(test_loader)\n",
    "    cer /= len(test_loader)\n",
    "    cer_p /= len(test_loader)\n",
    "    \n",
    "    scheduler.step(total_val_loss)\n",
    "    \n",
    "    print('[Epoch {:3d}]:  lr {:02.6f} | train loss {:5.5f} | val loss {:5.5f} | val CER {:5.5f} | val CER(torch) {:5.5f}'.format(\n",
    "                epoch, get_lr(optim), total_loss, total_val_loss, cer, cer_p))\n",
    "    return total_loss, total_val_loss"
   ]
  },
  {
   "cell_type": "code",
   "execution_count": 21,
   "metadata": {},
   "outputs": [],
   "source": [
    "loss_curve_train, loss_curve_test = [], []"
   ]
  },
  {
   "cell_type": "code",
   "execution_count": 22,
   "metadata": {
    "scrolled": false
   },
   "outputs": [
    {
     "name": "stdout",
     "output_type": "stream",
     "text": [
      "[Epoch   1]:  lr 0.000200 | train loss 0.26620 | val loss 0.17044 | val CER 0.52455 | val CER(torch) 0.52455\n",
      "[Epoch   2]:  lr 0.000200 | train loss 0.11973 | val loss 0.10561 | val CER 0.31909 | val CER(torch) 0.31909\n",
      "[Epoch   3]:  lr 0.000200 | train loss 0.07662 | val loss 0.09537 | val CER 0.31545 | val CER(torch) 0.31545\n",
      "[Epoch   4]:  lr 0.000200 | train loss 0.07047 | val loss 0.06740 | val CER 0.19318 | val CER(torch) 0.19318\n",
      "[Epoch   5]:  lr 0.000200 | train loss 0.06149 | val loss 0.07130 | val CER 0.21000 | val CER(torch) 0.21000\n",
      "[Epoch   6]:  lr 0.000200 | train loss 0.05729 | val loss 0.06108 | val CER 0.17364 | val CER(torch) 0.17364\n",
      "[Epoch   7]:  lr 0.000200 | train loss 0.04939 | val loss 0.05630 | val CER 0.15591 | val CER(torch) 0.15591\n",
      "[Epoch   8]:  lr 0.000200 | train loss 0.04941 | val loss 0.07120 | val CER 0.16864 | val CER(torch) 0.16864\n",
      "[Epoch   9]:  lr 0.000200 | train loss 0.05209 | val loss 0.06573 | val CER 0.14864 | val CER(torch) 0.14864\n",
      "[Epoch  10]:  lr 0.000200 | train loss 0.04735 | val loss 0.05513 | val CER 0.09409 | val CER(torch) 0.09409\n",
      "[Epoch  11]:  lr 0.000200 | train loss 0.04572 | val loss 0.06503 | val CER 0.14045 | val CER(torch) 0.14045\n",
      "[Epoch  12]:  lr 0.000200 | train loss 0.04666 | val loss 0.06091 | val CER 0.12273 | val CER(torch) 0.12273\n",
      "[Epoch  13]:  lr 0.000200 | train loss 0.05065 | val loss 0.06484 | val CER 0.15318 | val CER(torch) 0.15318\n",
      "[Epoch  14]:  lr 0.000200 | train loss 0.04953 | val loss 0.06074 | val CER 0.12727 | val CER(torch) 0.12727\n",
      "[Epoch  15]:  lr 0.000200 | train loss 0.04458 | val loss 0.05557 | val CER 0.11773 | val CER(torch) 0.11773\n",
      "[Epoch  16]:  lr 0.000200 | train loss 0.04691 | val loss 0.05650 | val CER 0.13182 | val CER(torch) 0.13182\n",
      "Epoch 00017: reducing learning rate of group 0 to 1.0000e-04.\n",
      "[Epoch  17]:  lr 0.000100 | train loss 0.04725 | val loss 0.05690 | val CER 0.11545 | val CER(torch) 0.11545\n",
      "[Epoch  18]:  lr 0.000100 | train loss 0.04230 | val loss 0.05108 | val CER 0.08682 | val CER(torch) 0.08682\n",
      "[Epoch  19]:  lr 0.000100 | train loss 0.04035 | val loss 0.04656 | val CER 0.06455 | val CER(torch) 0.06455\n",
      "[Epoch  20]:  lr 0.000100 | train loss 0.03977 | val loss 0.04745 | val CER 0.06591 | val CER(torch) 0.06591\n",
      "[Epoch  21]:  lr 0.000100 | train loss 0.03953 | val loss 0.04691 | val CER 0.06045 | val CER(torch) 0.06045\n",
      "[Epoch  22]:  lr 0.000100 | train loss 0.03965 | val loss 0.04685 | val CER 0.05727 | val CER(torch) 0.05727\n",
      "[Epoch  23]:  lr 0.000100 | train loss 0.03965 | val loss 0.04741 | val CER 0.05773 | val CER(torch) 0.05773\n",
      "[Epoch  24]:  lr 0.000100 | train loss 0.03955 | val loss 0.04688 | val CER 0.05182 | val CER(torch) 0.05182\n",
      "[Epoch  25]:  lr 0.000100 | train loss 0.03936 | val loss 0.04710 | val CER 0.05864 | val CER(torch) 0.05864\n",
      "Epoch 00026: reducing learning rate of group 0 to 5.0000e-05.\n",
      "[Epoch  26]:  lr 0.000050 | train loss 0.03948 | val loss 0.04712 | val CER 0.05500 | val CER(torch) 0.05500\n",
      "[Epoch  27]:  lr 0.000050 | train loss 0.03939 | val loss 0.04731 | val CER 0.05182 | val CER(torch) 0.05182\n",
      "[Epoch  28]:  lr 0.000050 | train loss 0.03923 | val loss 0.04724 | val CER 0.05864 | val CER(torch) 0.05864\n",
      "[Epoch  29]:  lr 0.000050 | train loss 0.03925 | val loss 0.04743 | val CER 0.05182 | val CER(torch) 0.05182\n",
      "[Epoch  30]:  lr 0.000050 | train loss 0.03929 | val loss 0.04722 | val CER 0.05182 | val CER(torch) 0.05182\n",
      "[Epoch  31]:  lr 0.000050 | train loss 0.03911 | val loss 0.04778 | val CER 0.05545 | val CER(torch) 0.05545\n",
      "[Epoch  32]:  lr 0.000050 | train loss 0.03927 | val loss 0.04746 | val CER 0.05455 | val CER(torch) 0.05455\n",
      "Epoch 00033: reducing learning rate of group 0 to 2.5000e-05.\n",
      "[Epoch  33]:  lr 0.000025 | train loss 0.03927 | val loss 0.04762 | val CER 0.05773 | val CER(torch) 0.05773\n",
      "[Epoch  34]:  lr 0.000025 | train loss 0.03933 | val loss 0.04780 | val CER 0.05864 | val CER(torch) 0.05864\n",
      "[Epoch  35]:  lr 0.000025 | train loss 0.03929 | val loss 0.04762 | val CER 0.05591 | val CER(torch) 0.05591\n",
      "[Epoch  36]:  lr 0.000025 | train loss 0.03921 | val loss 0.04737 | val CER 0.05273 | val CER(torch) 0.05273\n",
      "[Epoch  37]:  lr 0.000025 | train loss 0.03926 | val loss 0.04774 | val CER 0.05591 | val CER(torch) 0.05591\n",
      "[Epoch  38]:  lr 0.000025 | train loss 0.03921 | val loss 0.04779 | val CER 0.05864 | val CER(torch) 0.05864\n",
      "[Epoch  39]:  lr 0.000025 | train loss 0.03932 | val loss 0.04764 | val CER 0.05364 | val CER(torch) 0.05364\n",
      "Epoch 00040: reducing learning rate of group 0 to 1.2500e-05.\n",
      "[Epoch  40]:  lr 0.000012 | train loss 0.03937 | val loss 0.04771 | val CER 0.05636 | val CER(torch) 0.05636\n",
      "[Epoch  41]:  lr 0.000012 | train loss 0.03932 | val loss 0.04805 | val CER 0.05682 | val CER(torch) 0.05682\n",
      "[Epoch  42]:  lr 0.000012 | train loss 0.03937 | val loss 0.04763 | val CER 0.05409 | val CER(torch) 0.05409\n",
      "[Epoch  43]:  lr 0.000012 | train loss 0.03950 | val loss 0.04785 | val CER 0.05455 | val CER(torch) 0.05455\n",
      "[Epoch  44]:  lr 0.000012 | train loss 0.03926 | val loss 0.04787 | val CER 0.05545 | val CER(torch) 0.05545\n",
      "[Epoch  45]:  lr 0.000012 | train loss 0.03952 | val loss 0.04796 | val CER 0.05455 | val CER(torch) 0.05455\n",
      "[Epoch  46]:  lr 0.000012 | train loss 0.03925 | val loss 0.04799 | val CER 0.05545 | val CER(torch) 0.05545\n",
      "Epoch 00047: reducing learning rate of group 0 to 6.2500e-06.\n",
      "[Epoch  47]:  lr 0.000006 | train loss 0.03920 | val loss 0.04796 | val CER 0.05364 | val CER(torch) 0.05364\n",
      "[Epoch  48]:  lr 0.000006 | train loss 0.03914 | val loss 0.04796 | val CER 0.05364 | val CER(torch) 0.05364\n",
      "[Epoch  49]:  lr 0.000006 | train loss 0.03931 | val loss 0.04796 | val CER 0.05455 | val CER(torch) 0.05455\n",
      "[Epoch  50]:  lr 0.000006 | train loss 0.03932 | val loss 0.04785 | val CER 0.05091 | val CER(torch) 0.05091\n",
      "[Epoch  51]:  lr 0.000006 | train loss 0.03920 | val loss 0.04796 | val CER 0.05364 | val CER(torch) 0.05364\n",
      "[Epoch  52]:  lr 0.000006 | train loss 0.03925 | val loss 0.04784 | val CER 0.05364 | val CER(torch) 0.05364\n",
      "[Epoch  53]:  lr 0.000006 | train loss 0.03925 | val loss 0.04761 | val CER 0.05864 | val CER(torch) 0.05864\n",
      "Epoch 00054: reducing learning rate of group 0 to 3.1250e-06.\n",
      "[Epoch  54]:  lr 0.000003 | train loss 0.03931 | val loss 0.04764 | val CER 0.05182 | val CER(torch) 0.05182\n",
      "[Epoch  55]:  lr 0.000003 | train loss 0.03925 | val loss 0.04745 | val CER 0.05364 | val CER(torch) 0.05364\n",
      "[Epoch  56]:  lr 0.000003 | train loss 0.03914 | val loss 0.04765 | val CER 0.05455 | val CER(torch) 0.05455\n",
      "[Epoch  57]:  lr 0.000003 | train loss 0.03927 | val loss 0.04776 | val CER 0.05500 | val CER(torch) 0.05500\n",
      "[Epoch  58]:  lr 0.000003 | train loss 0.03933 | val loss 0.04755 | val CER 0.05455 | val CER(torch) 0.05455\n",
      "[Epoch  59]:  lr 0.000003 | train loss 0.03925 | val loss 0.04804 | val CER 0.05273 | val CER(torch) 0.05273\n",
      "[Epoch  60]:  lr 0.000003 | train loss 0.03914 | val loss 0.04785 | val CER 0.05000 | val CER(torch) 0.05000\n",
      "Epoch 00061: reducing learning rate of group 0 to 1.5625e-06.\n",
      "[Epoch  61]:  lr 0.000002 | train loss 0.03938 | val loss 0.04792 | val CER 0.05636 | val CER(torch) 0.05636\n",
      "[Epoch  62]:  lr 0.000002 | train loss 0.03936 | val loss 0.04784 | val CER 0.05364 | val CER(torch) 0.05364\n",
      "[Epoch  63]:  lr 0.000002 | train loss 0.03914 | val loss 0.04783 | val CER 0.05273 | val CER(torch) 0.05273\n",
      "[Epoch  64]:  lr 0.000002 | train loss 0.03931 | val loss 0.04776 | val CER 0.05682 | val CER(torch) 0.05682\n",
      "[Epoch  65]:  lr 0.000002 | train loss 0.03908 | val loss 0.04781 | val CER 0.05864 | val CER(torch) 0.05864\n",
      "[Epoch  66]:  lr 0.000002 | train loss 0.03919 | val loss 0.04768 | val CER 0.05500 | val CER(torch) 0.05500\n",
      "[Epoch  67]:  lr 0.000002 | train loss 0.03933 | val loss 0.04783 | val CER 0.05545 | val CER(torch) 0.05545\n",
      "Epoch 00068: reducing learning rate of group 0 to 7.8125e-07.\n",
      "[Epoch  68]:  lr 0.000001 | train loss 0.03925 | val loss 0.04786 | val CER 0.05455 | val CER(torch) 0.05455\n",
      "[Epoch  69]:  lr 0.000001 | train loss 0.03919 | val loss 0.04772 | val CER 0.05364 | val CER(torch) 0.05364\n",
      "[Epoch  70]:  lr 0.000001 | train loss 0.03930 | val loss 0.04758 | val CER 0.05455 | val CER(torch) 0.05455\n",
      "[Epoch  71]:  lr 0.000001 | train loss 0.03913 | val loss 0.04761 | val CER 0.05364 | val CER(torch) 0.05364\n"
     ]
    },
    {
     "name": "stdout",
     "output_type": "stream",
     "text": [
      "[Epoch  72]:  lr 0.000001 | train loss 0.03925 | val loss 0.04769 | val CER 0.05455 | val CER(torch) 0.05455\n",
      "[Epoch  73]:  lr 0.000001 | train loss 0.03925 | val loss 0.04814 | val CER 0.05364 | val CER(torch) 0.05364\n",
      "[Epoch  74]:  lr 0.000001 | train loss 0.03931 | val loss 0.04800 | val CER 0.05273 | val CER(torch) 0.05273\n",
      "Epoch 00075: reducing learning rate of group 0 to 3.9062e-07.\n",
      "[Epoch  75]:  lr 0.000000 | train loss 0.03925 | val loss 0.04770 | val CER 0.05455 | val CER(torch) 0.05455\n",
      "[Epoch  76]:  lr 0.000000 | train loss 0.03919 | val loss 0.04774 | val CER 0.05273 | val CER(torch) 0.05273\n",
      "[Epoch  77]:  lr 0.000000 | train loss 0.03925 | val loss 0.04784 | val CER 0.05682 | val CER(torch) 0.05682\n",
      "[Epoch  78]:  lr 0.000000 | train loss 0.03919 | val loss 0.04760 | val CER 0.05273 | val CER(torch) 0.05273\n",
      "[Epoch  79]:  lr 0.000000 | train loss 0.03919 | val loss 0.04800 | val CER 0.05500 | val CER(torch) 0.05500\n",
      "[Epoch  80]:  lr 0.000000 | train loss 0.03957 | val loss 0.04767 | val CER 0.05273 | val CER(torch) 0.05273\n",
      "[Epoch  81]:  lr 0.000000 | train loss 0.03925 | val loss 0.04794 | val CER 0.05364 | val CER(torch) 0.05364\n",
      "Epoch 00082: reducing learning rate of group 0 to 1.9531e-07.\n",
      "[Epoch  82]:  lr 0.000000 | train loss 0.03938 | val loss 0.04800 | val CER 0.05364 | val CER(torch) 0.05364\n",
      "[Epoch  83]:  lr 0.000000 | train loss 0.03932 | val loss 0.04805 | val CER 0.05364 | val CER(torch) 0.05364\n",
      "[Epoch  84]:  lr 0.000000 | train loss 0.03930 | val loss 0.04799 | val CER 0.05455 | val CER(torch) 0.05455\n",
      "[Epoch  85]:  lr 0.000000 | train loss 0.03925 | val loss 0.04797 | val CER 0.05636 | val CER(torch) 0.05636\n",
      "[Epoch  86]:  lr 0.000000 | train loss 0.03913 | val loss 0.04798 | val CER 0.05364 | val CER(torch) 0.05364\n",
      "[Epoch  87]:  lr 0.000000 | train loss 0.03919 | val loss 0.04796 | val CER 0.05500 | val CER(torch) 0.05500\n",
      "[Epoch  88]:  lr 0.000000 | train loss 0.03925 | val loss 0.04776 | val CER 0.05364 | val CER(torch) 0.05364\n",
      "Epoch 00089: reducing learning rate of group 0 to 9.7656e-08.\n",
      "[Epoch  89]:  lr 0.000000 | train loss 0.03908 | val loss 0.04761 | val CER 0.05364 | val CER(torch) 0.05364\n",
      "[Epoch  90]:  lr 0.000000 | train loss 0.03925 | val loss 0.04801 | val CER 0.05273 | val CER(torch) 0.05273\n",
      "[Epoch  91]:  lr 0.000000 | train loss 0.03913 | val loss 0.04814 | val CER 0.05545 | val CER(torch) 0.05545\n",
      "[Epoch  92]:  lr 0.000000 | train loss 0.03919 | val loss 0.04794 | val CER 0.05364 | val CER(torch) 0.05364\n",
      "[Epoch  93]:  lr 0.000000 | train loss 0.03930 | val loss 0.04812 | val CER 0.05455 | val CER(torch) 0.05455\n",
      "[Epoch  94]:  lr 0.000000 | train loss 0.03925 | val loss 0.04796 | val CER 0.05364 | val CER(torch) 0.05364\n",
      "[Epoch  95]:  lr 0.000000 | train loss 0.03925 | val loss 0.04794 | val CER 0.05455 | val CER(torch) 0.05455\n",
      "Epoch 00096: reducing learning rate of group 0 to 4.8828e-08.\n",
      "[Epoch  96]:  lr 0.000000 | train loss 0.03913 | val loss 0.04806 | val CER 0.05455 | val CER(torch) 0.05455\n",
      "[Epoch  97]:  lr 0.000000 | train loss 0.03925 | val loss 0.04787 | val CER 0.05364 | val CER(torch) 0.05364\n",
      "[Epoch  98]:  lr 0.000000 | train loss 0.03925 | val loss 0.04764 | val CER 0.05364 | val CER(torch) 0.05364\n",
      "[Epoch  99]:  lr 0.000000 | train loss 0.03931 | val loss 0.04799 | val CER 0.05273 | val CER(torch) 0.05273\n",
      "[Epoch 100]:  lr 0.000000 | train loss 0.03930 | val loss 0.04803 | val CER 0.05273 | val CER(torch) 0.05273\n",
      "CPU times: user 7min 39s, sys: 46.9 s, total: 8min 25s\n",
      "Wall time: 8min 46s\n"
     ]
    }
   ],
   "source": [
    "%%time\n",
    "\n",
    "for epoch in range(1, 101):\n",
    "    train_loss, test_loss = train(model)\n",
    "    loss_curve_train.append(train_loss)\n",
    "    loss_curve_test.append(test_loss)"
   ]
  },
  {
   "cell_type": "code",
   "execution_count": 23,
   "metadata": {},
   "outputs": [
    {
     "data": {
      "image/png": "[encoded data removed]",
      "text/plain": [
       "<Figure size 720x576 with 1 Axes>"
      ]
     },
     "metadata": {
      "needs_background": "light"
     },
     "output_type": "display_data"
    }
   ],
   "source": [
    "# Visualize loss\n",
    "plt.figure(figsize=(10, 8))\n",
    "    \n",
    "plt.title(\"Training loss\")\n",
    "plt.xlabel(\"#epoch\")\n",
    "plt.ylabel(\"loss\")\n",
    "\n",
    "plt.plot(loss_curve_train, label='train')\n",
    "plt.plot(loss_curve_test, label='test')\n",
    "\n",
    "\n",
    "#plt.yscale('log',base=2)\n",
    "plt.legend()\n",
    "plt.show()"
   ]
  },
  {
   "cell_type": "markdown",
   "metadata": {},
   "source": [
    "## Model error analysis"
   ]
  },
  {
   "cell_type": "code",
   "execution_count": 24,
   "metadata": {},
   "outputs": [],
   "source": [
    "from collections import defaultdict, Counter\n",
    "\n",
    "val_loader = DataLoader(test_dataset, batch_size=1, shuffle=False, num_workers=4)\n",
    "\n",
    "im_by_cer = defaultdict(list)\n",
    "cnt = Counter()\n",
    "\n",
    "model.eval()\n",
    "with torch.no_grad():\n",
    "    for data, target in val_loader:\n",
    "        data, target = data.to(device), target.to(device)\n",
    "        preds = model(data)\n",
    "        label = alphabet.decode(target)[0]\n",
    "        pred_label = alphabet.decode(preds)[0]\n",
    "        cer = character_error_rate(pred_label, label)\n",
    "        im_by_cer[cer].append((label, pred_label))\n",
    "        cnt[cer] += 1"
   ]
  },
  {
   "cell_type": "code",
   "execution_count": 25,
   "metadata": {},
   "outputs": [
    {
     "name": "stdout",
     "output_type": "stream",
     "text": [
      "Counter({0.0: 163, 0.2: 44, 0.4: 7})\n"
     ]
    }
   ],
   "source": [
    "print(cnt)"
   ]
  },
  {
   "cell_type": "code",
   "execution_count": 28,
   "metadata": {},
   "outputs": [
    {
     "name": "stdout",
     "output_type": "stream",
     "text": [
      "TRUE        PRED        ERROR\n",
      "--------------------------------\n",
      "xemyg       xenyg    {m}--->{n}\n",
      "n265y       n266y    {5}--->{6}\n",
      "24f6w       24f5w    {6}--->{5}\n",
      "8gecm       8gecn    {m}--->{n}\n",
      "n5w5g       n5w5p    {g}--->{p}\n",
      "n2gmg       n2gng    {m}--->{n}\n",
      "pnnwy       pnnny    {w}--->{n}\n",
      "gc277       gc777    {2}--->{7}\n",
      "e25xg       e25yg    {x}--->{y}\n",
      "6pwcn       6pwcm    {n}--->{m}\n",
      "c86md       c86nd    {m}--->{n}\n",
      "pme86       pne86    {m}--->{n}\n",
      "bm3p8       bn3p8    {m}--->{n}\n",
      "7gp47       7gg47    {p}--->{g}\n",
      "4nc37       4nc57    {3}--->{5}\n",
      "n7meb       n7neb    {m}--->{n}\n",
      "gdng3       gdmg3    {n}--->{m}\n",
      "wddcp       wgdcp    {d}--->{g}\n",
      "cm6yb       cn6yb    {m}--->{n}\n",
      "n5n8b       n5n8p    {b}--->{p}\n",
      "xxbm5       xxbn5    {m}--->{n}\n",
      "m4g8g       n4g8g    {m}--->{n}\n",
      "3x5fm       3x5fn    {m}--->{n}\n",
      "7m8px       7n8px    {m}--->{n}\n",
      "5f3gf       5f3nf    {g}--->{n}\n",
      "excmn       excnn    {m}--->{n}\n",
      "46mbm       46nbm    {m}--->{n}\n",
      "bc8nf       bc8mf    {n}--->{m}\n",
      "5p8fm       5p8fn    {m}--->{n}\n",
      "5mf7c       5nf7c    {m}--->{n}\n",
      "e84n2       e84m2    {n}--->{m}\n",
      "gwn53       gnn53    {w}--->{n}\n",
      "nm248       nn248    {m}--->{n}\n",
      "p6mn8       p6mm8    {n}--->{m}\n",
      "yfdn7       yfdm7    {n}--->{m}\n",
      "f753f       f75df    {3}--->{d}\n",
      "ygenn       ygpnn    {e}--->{p}\n",
      "pgmn2       pgmm2    {n}--->{m}\n",
      "w6ny4       w6my4    {n}--->{m}\n",
      "gd4mf       gd4nf    {m}--->{n}\n",
      "nn6mg       nn6wg    {m}--->{w}\n",
      "6cwxe       6pwxe    {c}--->{p}\n",
      "7yf62       7yf52    {6}--->{5}\n",
      "ep85x       cp85x    {e}--->{c}\n",
      "dnmd8       gpmd8    {d, n}--->{g, p}\n",
      "gpnxn       gpmyn    {n, x}--->{m, y}\n",
      "wce5n       wxe5m    {c, n}--->{x, m}\n",
      "2mpnn       2mpmm    {n, n}--->{m, m}\n",
      "c2fb7       e2fw7    {c, b}--->{e, w}\n",
      "fncnb       fncdp    {n, b}--->{d, p}\n",
      "7pn5g       7pn6p    {5, g}--->{p, 6}\n"
     ]
    }
   ],
   "source": [
    "from multiset import Multiset\n",
    "\n",
    "print('TRUE        PRED        ERROR')\n",
    "print('--------------------------------')\n",
    "for cer in cnt.keys():\n",
    "    if cer == 0.: continue\n",
    "    for true_lbl, pred_lbl in im_by_cer[cer]:\n",
    "        pred_err_smb = Multiset(pred_lbl) - Multiset(true_lbl)\n",
    "        true_err_smb = Multiset(true_lbl) - Multiset(pred_lbl)\n",
    "        print(f'{true_lbl}       {pred_lbl}    {true_err_smb}--->{pred_err_smb}')"
   ]
  },
  {
   "cell_type": "markdown",
   "metadata": {},
   "source": [
    "\n",
    "##### Видно, что большинство ошибок предсказуемы - замена 'n' на 'm', 'c' на 'e', '6' на '8' и т.п."
   ]
  },
  {
   "cell_type": "code",
   "execution_count": null,
   "metadata": {},
   "outputs": [],
   "source": []
  }
 ],
 "metadata": {
  "kernelspec": {
   "display_name": "Python 3",
   "language": "python",
   "name": "python3"
  },
  "language_info": {
   "codemirror_mode": {
    "name": "ipython",
    "version": 3
   },
   "file_extension": ".py",
   "mimetype": "text/x-python",
   "name": "python",
   "nbconvert_exporter": "python",
   "pygments_lexer": "ipython3",
   "version": "3.8.5"
  }
 },
 "nbformat": 4,
 "nbformat_minor": 4
}
